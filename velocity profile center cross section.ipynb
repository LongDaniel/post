{
 "cells": [
  {
   "cell_type": "markdown",
   "metadata": {},
   "source": [
    "get velocity profile at specific location and plot it"
   ]
  },
  {
   "cell_type": "code",
   "execution_count": 34,
   "metadata": {},
   "outputs": [],
   "source": [
    "#change working directory\n",
    "path = 'd:\\post\\Project\\Fixed_Turbine'\n",
    "os.chdir(path)\n"
   ]
  },
  {
   "cell_type": "code",
   "execution_count": 35,
   "metadata": {},
   "outputs": [],
   "source": [
    "#import necessary modules\n",
    "import sys\n",
    "import numpy as np\n",
    "import tecplot_io as tec\n",
    "import os\n",
    "import pandas as pd\n",
    "import matplotlib as mpl\n",
    "import matplotlib.pyplot as plt\n",
    "import matplotlib.ticker as tck"
   ]
  },
  {
   "cell_type": "code",
   "execution_count": 36,
   "metadata": {},
   "outputs": [],
   "source": [
    "#Declare necessary functions\n",
    "def find_index(_z, _limits):\n",
    "\t_n = len(_z)\n",
    "\t_i_min = 0\n",
    "\t_i_max = _n - 1\n",
    "\t_limits2 = np.zeros(2)\n",
    "\n",
    "\tif isinstance(_limits, float):\n",
    "\t\t_limits2[0:2] = _limits\n",
    "\telse:\n",
    "\t\t_limits2 = _limits\n",
    "\t\t \t\t\t\n",
    "\tfor i in range(_n):\n",
    "\t\tif _z[i]<_limits2[0] and i>_i_min :\n",
    "\t\t\t_i_min = i\n",
    "\t\tif _z[i]>_limits2[1] and i<_i_max :\n",
    "\t\t\t_i_max = i\n",
    "\t#print('zlimits='+str(_limits))\n",
    "\t#print('i_min='+str(_i_min)+', i_max='+str(_i_max))\n",
    "\n",
    "\tif isinstance(_limits, float):\n",
    "\t\treturn _i_min\n",
    "\telse:\n",
    "\t\treturn _i_min, _i_max\n",
    "\n",
    "def get_coord_range (_loc, _D):\n",
    "\t_xc = _loc[0]\n",
    "\t_yc = _loc[1]\n",
    "\t_xran = [_xc+0.2*_D, _xc+23.0*_D]\n",
    "\t_yran = [_yc-2.0*_D, _yc+2.0*_D]\n",
    "\treturn _xran, _yran\n",
    "\n",
    "def get_index_range (_x, _y, _xran, _yran):\n",
    "#\tprint \"range for x=\"+str(_x)+\" is \"+str(_xran)\n",
    "#\tprint \"range for y=\"+str(_y)+\" is \"+str(_yran)\n",
    "\t_ixmin, _ixmax = find_index(_x, _xran)\n",
    "\t_iymin, _iymax = find_index(_y, _yran)\n",
    "\t_ixran = [_ixmin, _ixmax]\n",
    "\t_iyran = [_iymin, _iymax]\n",
    "\treturn _ixran, _iyran\n",
    "\n",
    "def identify_wake_core(_ixran, _iyran, _h, _x1, _y1, width=20, _method=1, _hw=1):\n",
    "\t_ix = []\n",
    "\t_iy = []\n",
    "\t_x = []\n",
    "\t_y = []\n",
    "\t#print(\"ixran=\"+str(_ixran)+\", iyran=\"+str(_iyran)+\", iyran[0]=\"+str(_iyran[0]))\n",
    "\t\n",
    "\t_tempwidth = (_iyran[1] - _iyran[0])/3\n",
    "\t_tempstart = _iyran[0] + (_iyran[1] - _iyran[0])/2 - _tempwidth/2\t\n",
    "\t_tempend = _tempstart + _tempwidth\n",
    "\t\n",
    "\t_utmp = np.zeros(_h.shape[1])\n",
    "\n",
    "def smooth(x,window_len=11,window='hanning'):\n",
    "    if x.ndim != 1:\n",
    "        raise ValueError('smooth only accepts 1 dimension arrays.')\n",
    "\n",
    "    if x.size < window_len:\n",
    "        raise ValueError('Input vector needs to be bigger than window size.')\n",
    "\n",
    "\n",
    "    if window_len<3:\n",
    "        return x\n",
    "\n",
    "\n",
    "    if not window in ['flat', 'hanning', 'hamming', 'bartlett', 'blackman']:\n",
    "        raise ValueError(\"Window is on of 'flat', 'hanning', 'hamming', 'bartlett', 'blackman'\")\n",
    "\n",
    "\n",
    "    s=np.r_[x[window_len-1:0:-1],x,x[-2:-window_len-1:-1]]  #np.r_ : .. ... (row ...)\n",
    "    #print(len(s))\n",
    "    if window == 'flat': #moving average\n",
    "        w=np.ones(window_len,'d')\n",
    "    else:\n",
    "        w=eval('np.'+window+'(window_len)')    #np.hanning(11) ... .... .. . .... w. ..... --- hanning window : pyhon .. window.\n",
    "\n",
    "    y=np.convolve(w/w.sum(),s,mode='valid')\n",
    "    #print(len(y))\n",
    "    #print(len(w))\n",
    "    #return y\n",
    "    \n",
    "    _start = len(w)/2\n",
    "    return y[(_start):(_start+len(x))]"
   ]
  },
  {
   "cell_type": "code",
   "execution_count": 37,
   "metadata": {},
   "outputs": [],
   "source": [
    "#necessary variables\n",
    "r = 40.0\n",
    "D = 2.0*r\n",
    "nx = 192\n",
    "ny = 192\n",
    "nz = 64\n",
    "nvar = 6\n",
    "nturbine = 16\n",
    "dt = 0.68543297937\n",
    "tis = 200\n",
    "tie = 15000\n",
    "tii = 200\n",
    "nti = int((tie - tis) / tii + 1)\n",
    "tii = 200\n",
    "U_hub = 8.0\n",
    "#frequency of wave\n",
    "omega = 0.0498561155567\n",
    "#wave period\n",
    "T = 2*np.pi/omega\n",
    "#turbine hub height\n",
    "H_hub = 70.0\n",
    "#Rotational angular period\n",
    "T_turb = 42.84\n",
    "U_star = 0.356\n",
    "H_hub = 70\n",
    "#Mean finite velocity\n",
    "U_m = 11.5258407161"
   ]
  },
  {
   "cell_type": "code",
   "execution_count": 38,
   "metadata": {},
   "outputs": [],
   "source": [
    "turbinefile = \"Turbine.inp\"\n",
    "turbinedata = np.genfromtxt(turbinefile, skip_header = 1)\n",
    "turbineloc = turbinedata[3:5] #single turbine\n",
    "nturbine = len(turbineloc[:,0]) #multiple turbines\n",
    "\n",
    "for iturb in range(nturbine):\n",
    "\txtmp, ytmp = get_coord_range(turbineloc[:],D)\n",
    "\n",
    "allmins = []\n",
    "for iturb in range(nturbine):\n",
    "\tallmins.append(list())"
   ]
  },
  {
   "cell_type": "code",
   "execution_count": 39,
   "metadata": {},
   "outputs": [
    {
     "name": "stdout",
     "output_type": "stream",
     "text": [
      "Current working directory: d:\\post\\Project\\Fixed_Turbine\n"
     ]
    }
   ],
   "source": [
    "foldername =  \"./POST_UI_2D1_0001/\"\n",
    "outputfolder = 'post_result/'\n",
    "#create output folder named 'post_result' \n",
    "if not os.path.exists(outputfolder):\n",
    "    os.makedirs(outputfolder)\n",
    "print(\"Current working directory: {0}\".format(os.getcwd()))\n",
    "#f = open( outputfolder + \"wake_spectrum.dat\",'w')\n",
    "#f1 = open( outputfolder + \"wake_line.dat\",'w')"
   ]
  },
  {
   "cell_type": "code",
   "execution_count": 40,
   "metadata": {},
   "outputs": [],
   "source": [
    "U_mean = np.zeros((nz,ny))\n",
    "W_mean = np.zeros((nz,ny))"
   ]
  },
  {
   "cell_type": "code",
   "execution_count": 41,
   "metadata": {},
   "outputs": [
    {
     "name": "stdout",
     "output_type": "stream",
     "text": [
      "[ 2.41168887e-03  3.43561783e-03  5.93847365e-03  8.65405616e-03\n",
      "  1.09418891e-02  1.29085907e-02  1.44389777e-02  1.54623662e-02\n",
      "  1.62701622e-02  1.70612751e-02  1.78387979e-02  1.86027728e-02\n",
      "  1.93407700e-02  2.00228339e-02  2.06162517e-02  2.11048854e-02\n",
      "  2.14908201e-02  2.17871349e-02  2.20245651e-02  2.22341820e-02\n",
      "  2.24135536e-02  2.25154600e-02  2.24752100e-02  2.22951954e-02\n",
      "  2.20356881e-02  2.17488264e-02  2.14529012e-02  2.11310963e-02\n",
      "  2.07855809e-02  2.04704901e-02  2.02543553e-02  2.01458015e-02\n",
      "  2.00723787e-02  1.99307077e-02  1.96496285e-02  1.92388256e-02\n",
      "  1.86066149e-02  1.81352847e-02  1.63617604e-02  1.32603318e-02\n",
      "  1.15142344e-02  1.09240316e-02  1.06024002e-02  9.00672444e-03\n",
      "  6.66862498e-03  4.85863147e-03  3.49933993e-03  2.53229046e-03\n",
      "  8.85474309e-04 -6.88928186e-04 -1.70724611e-03 -1.85376860e-03\n",
      " -1.04202767e-03  2.65756096e-05  3.10033427e-04 -2.81615080e-06\n",
      " -2.38631401e-05  3.39787243e-04  7.09175045e-04  9.56222893e-04\n",
      "  1.36004461e-03  1.34245344e-03  5.96525545e-04 -5.94760764e-04]\n"
     ]
    }
   ],
   "source": [
    "#clean data\n",
    "#calculate mean velocity\n",
    "for it in range(nti):\n",
    "\tti = tis + tii * it\n",
    "\tfilename = foldername + \"POST_UI_2D1_\" + \"{:010d}\".format(ti) + \"_0001.DAT\"\n",
    "\tdata0 = tec.tecplot_reader(filename, [nz, ny, nvar], 2)\n",
    "\tdata0 = data0.reshape([nz,ny,nvar])\n",
    "\tX = data0[:,:,0]\n",
    "\tY = data0[:,:,1]\n",
    "\tZ = data0[:,:,2]\n",
    "\tU = data0[:,:,3]\n",
    "\tV = data0[:,:,4]\n",
    "\tW = data0[:,:,5]\n",
    "#mean velocity\n",
    "\t#U_mean = np.mean(U, axis=1)\n",
    "\tZ = np.mean(Z, axis=1)\n",
    "\tU_mean = U_mean + U\n",
    "\tW_mean = W_mean + W\n",
    "#time average velocity\n",
    "U_mean = U_mean / nti\n",
    "W_mean = W_mean / nti\n",
    "#U_mean_all = np.mean(U_mean, axis=1)\n",
    "#get central cross section\n",
    "U_mean_all = U_mean[:,96]\n",
    "W_mean_all = W_mean[:,96]\n",
    "#checked\n",
    "#print(U_mean)\n",
    "print (W_mean_all)\n",
    "#print(U[1,:])\n",
    "#print(Z)"
   ]
  },
  {
   "cell_type": "code",
   "execution_count": 42,
   "metadata": {},
   "outputs": [],
   "source": [
    "data1 = np.zeros((nz,2))\n",
    "data1[:,0] = U_mean_all*(U_m/U_hub)\n",
    "data1[:,1] = Z/D\n"
   ]
  },
  {
   "cell_type": "code",
   "execution_count": 43,
   "metadata": {},
   "outputs": [],
   "source": [
    "f0 = open( outputfolder + \"Vertical profile time-average velocity2.plt\",'w')\n",
    "f0.write(\"VARIABLES = u/U_hub, z/D  \\n\")\n",
    "np.savetxt(f0, data1)\n",
    "f0.close()"
   ]
  },
  {
   "cell_type": "code",
   "execution_count": 44,
   "metadata": {},
   "outputs": [
    {
     "data": {
      "image/png": "[encoded data removed]",
      "text/plain": [
       "<Figure size 640x480 with 1 Axes>"
      ]
     },
     "metadata": {},
     "output_type": "display_data"
    }
   ],
   "source": [
    "plt.style.use('classic')\n",
    "fig, ax = plt.subplots()\n",
    "plt.plot(data1[:,0], data1[:,1])\n",
    "plt.gca().get_lines()[0].set_color(\"black\")\n",
    "plt.gca().get_lines()[0].set_linestyle(\"--\")\n",
    "plt.gca().get_lines()[0].set_linewidth(2)\n",
    "ax.xaxis.set_minor_locator(tck.AutoMinorLocator())\n",
    "ax.yaxis.set_minor_locator(tck.AutoMinorLocator())\n",
    "plt.xlabel('U/U_hub')\n",
    "plt.ylabel('z/D')\n",
    "plt.show()"
   ]
  },
  {
   "cell_type": "code",
   "execution_count": 45,
   "metadata": {},
   "outputs": [
    {
     "name": "stdout",
     "output_type": "stream",
     "text": [
      "[-8.42488809e-05 -5.59741207e-05 -1.06823684e-05  8.68062530e-07\n",
      "  4.60894036e-06  5.67848755e-06  6.14827506e-06  6.70678448e-06\n",
      "  7.36737437e-06  8.22885913e-06  9.27841495e-06  1.05418735e-05\n",
      "  1.21002654e-05  1.40536786e-05  1.64508310e-05  1.92589596e-05\n",
      "  2.22889726e-05  2.51699852e-05  2.73374584e-05  2.83959633e-05\n",
      "  2.80222935e-05  2.57343094e-05  2.24031475e-05  1.88329360e-05\n",
      "  1.55357615e-05  1.30207566e-05  1.07581023e-05  7.68728465e-06\n",
      "  2.98036994e-06 -3.71610476e-06 -1.26495139e-05 -2.34936259e-05\n",
      " -3.41755257e-05 -4.17851803e-05 -4.52856628e-05 -4.55951895e-05\n",
      " -4.28731413e-05 -2.97428413e-05 -9.07389466e-06 -3.46793703e-06\n",
      " -9.12842836e-06 -9.27202520e-06 -6.68403941e-06 -2.57522365e-06\n",
      " -9.59279481e-07 -2.63603016e-07  1.39218408e-06  1.61902643e-06\n",
      " -6.98674093e-07 -5.12087334e-07 -2.40333671e-08 -3.78026471e-08\n",
      " -2.57253591e-07 -7.48614379e-07 -8.07698015e-07 -1.13066609e-08\n",
      " -3.16164411e-07 -9.59204155e-08  2.56568227e-07  5.33772125e-07\n",
      "  6.75735704e-07  1.66643345e-07 -1.82300307e-07  1.83660139e-07]\n"
     ]
    }
   ],
   "source": [
    "#calculate fluctuating component\n",
    "U_prime_square = np.zeros((nz))\n",
    "for it in range(nti):\n",
    "\tti = tis + tii * it\n",
    "\tfilename = foldername + \"POST_UI_2D1_\" + \"{:010d}\".format(ti) + \"_0001.DAT\"\n",
    "\tdata2 = tec.tecplot_reader(filename, [nz, ny, nvar], 2)\n",
    "\tdata2 = data2.reshape([nz,ny,nvar])\n",
    "\tX = data2[:,:,0]\n",
    "\tY = data2[:,:,1]\n",
    "\tZ = data2[:,:,2]\n",
    "\tU = data2[:,:,3]\n",
    "\tV = data2[:,:,4]\n",
    "\tW = data2[:,:,5]\n",
    "\tU = U[:,96]\n",
    "\tW = W[:,96]\n",
    "\tU_fluc = (U-U_mean_all)\n",
    "\tW_fluc = (W-W_mean_all)\n",
    "\tReynolds_stress = - U_fluc*W_fluc\n",
    "\tZ = np.mean(Z, axis=1)\n",
    "\tU_prime_square = U_prime_square + U_fluc**2\n",
    "\n",
    "Reynolds_stress_tm = Reynolds_stress / nti\n",
    "print(Reynolds_stress_tm)\t"
   ]
  },
  {
   "cell_type": "code",
   "execution_count": 46,
   "metadata": {},
   "outputs": [
    {
     "name": "stdout",
     "output_type": "stream",
     "text": [
      "[0.10808127 0.13460945 0.05040397 0.05320435 0.05660315 0.06077616\n",
      " 0.06555587 0.06817454 0.0707712  0.07332745 0.07584205 0.07832532\n",
      " 0.08075501 0.08308462 0.08528808 0.08739182 0.08941509 0.09136266\n",
      " 0.09328026 0.09523107 0.09721446 0.09915268 0.10090826 0.10237791\n",
      " 0.10329042 0.10357115 0.10323184 0.1023985  0.10124336 0.09998452\n",
      " 0.09882569 0.0978656  0.09701071 0.09612348 0.09516792 0.0941903\n",
      " 0.09319464 0.08842415 0.08801213 0.08669698 0.0809388  0.07157701\n",
      " 0.05998578 0.0521216  0.0428498  0.03338441 0.02962028 0.0257109\n",
      " 0.02104649 0.01949432 0.02041295 0.02096004 0.02124546 0.02085782\n",
      " 0.0217403  0.01999202 0.01899728 0.02022972 0.02127488 0.01870084\n",
      " 0.01893849 0.01567773 0.01347687 0.01347791]\n"
     ]
    }
   ],
   "source": [
    "U_prime_rms = np.sqrt(U_prime_square / nti)\n",
    "print(U_prime_rms)\n",
    "#print(U_prime_square)\n",
    "#print(U_prime_square[58])\n",
    "#print(U[58])\n",
    "#print(U_mean_all[58])\n",
    "#test = (U[58] - U_mean_all[58])**2\n",
    "#test = (U - U_mean_all)**2\n",
    "#print(test)"
   ]
  },
  {
   "cell_type": "code",
   "execution_count": 47,
   "metadata": {},
   "outputs": [],
   "source": [
    "data3 = np.zeros((nz,2))\n",
    "data3[:,0] = U_prime_rms*(U_m/U_star)\n",
    "data3[:,1] = Z/D"
   ]
  },
  {
   "cell_type": "code",
   "execution_count": 48,
   "metadata": {},
   "outputs": [
    {
     "data": {
      "image/png": "[encoded data removed]",
      "text/plain": [
       "<Figure size 640x480 with 1 Axes>"
      ]
     },
     "metadata": {},
     "output_type": "display_data"
    }
   ],
   "source": [
    "#show plot inline\n",
    "%matplotlib inline\n",
    "plt.style.use('classic')\n",
    "fig, ax = plt.subplots()\n",
    "plt.plot(data3[:,0], data3[:,1])\n",
    "plt.gca().get_lines()[0].set_color(\"black\")\n",
    "plt.gca().get_lines()[0].set_linestyle(\"-\")\n",
    "plt.gca().get_lines()[0].set_linewidth(2)\n",
    "ax.xaxis.set_minor_locator(tck.AutoMinorLocator())\n",
    "ax.yaxis.set_minor_locator(tck.AutoMinorLocator())\n",
    "plt.xlabel('U_rms/U_star')\n",
    "plt.ylabel('z/D')\n",
    "plt.show()"
   ]
  },
  {
   "cell_type": "code",
   "execution_count": 49,
   "metadata": {},
   "outputs": [],
   "source": [
    "f1 = open( outputfolder + \"test.plt\",'w')\n",
    "f1.write(\"VARIABLES = u_rms/U_hub, z/D  \\n\")\n",
    "np.savetxt(f1, data3)\n",
    "f1.close()"
   ]
  },
  {
   "cell_type": "code",
   "execution_count": 50,
   "metadata": {},
   "outputs": [],
   "source": [
    "data4 = np.zeros((nz,2))\n",
    "data4[:,0] = Reynolds_stress_tm/(U_star**2)\n",
    "data4[:,1] = Z/D"
   ]
  },
  {
   "cell_type": "code",
   "execution_count": 56,
   "metadata": {},
   "outputs": [
    {
     "data": {
      "image/png": "[encoded data removed]",
      "text/plain": [
       "<Figure size 640x480 with 1 Axes>"
      ]
     },
     "metadata": {},
     "output_type": "display_data"
    }
   ],
   "source": [
    "#show plot inline\n",
    "%matplotlib inline\n",
    "plt.style.use('classic')\n",
    "fig, ax = plt.subplots()\n",
    "plt.plot(data4[:,0], data4[:,1])\n",
    "#customize plot title\n",
    "plt.title('x/D = 2', fontsize=14, color='black', loc='left')\n",
    "plt.gca().get_lines()[0].set_color(\"black\")\n",
    "plt.gca().get_lines()[0].set_linestyle(\"-\")\n",
    "plt.gca().get_lines()[0].set_linewidth(2)\n",
    "ax.xaxis.set_minor_locator(tck.AutoMinorLocator())\n",
    "ax.yaxis.set_minor_locator(tck.AutoMinorLocator())\n",
    "plt.xlabel('-uw/u*^2')\n",
    "plt.ylabel('z/D')\n",
    "plt.show()"
   ]
  },
  {
   "cell_type": "code",
   "execution_count": 51,
   "metadata": {},
   "outputs": [],
   "source": [
    "f2 = open( outputfolder + \"test1.plt\",'w')\n",
    "f2.write(\"VARIABLES = u_rms/U_hub, z/D  \\n\")\n",
    "np.savetxt(f2, data4)\n",
    "f2.close()"
   ]
  }
 ],
 "metadata": {
  "interpreter": {
   "hash": "e31dec42d8456365a876b53d68a215d3bec5092680cc795fae3bcf047e11988c"
  },
  "kernelspec": {
   "display_name": "Python 3.10.0 64-bit",
   "language": "python",
   "name": "python3"
  },
  "language_info": {
   "codemirror_mode": {
    "name": "ipython",
    "version": 3
   },
   "file_extension": ".py",
   "mimetype": "text/x-python",
   "name": "python",
   "nbconvert_exporter": "python",
   "pygments_lexer": "ipython3",
   "version": "3.10.0"
  },
  "orig_nbformat": 4
 },
 "nbformat": 4,
 "nbformat_minor": 2
}
