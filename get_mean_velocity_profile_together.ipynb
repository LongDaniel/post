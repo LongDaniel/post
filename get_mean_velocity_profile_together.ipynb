{
 "cells": [
  {
   "cell_type": "code",
   "execution_count": 23,
   "metadata": {},
   "outputs": [],
   "source": [
    "import h5py\n",
    "import numpy as np\n",
    "import matplotlib.pyplot as plt\n",
    "import matplotlib.ticker as tck\n",
    "import os"
   ]
  },
  {
   "cell_type": "code",
   "execution_count": 24,
   "metadata": {},
   "outputs": [],
   "source": [
    "def func2(x, a, b):\n",
    "  return a*x+b\n",
    "\n",
    "def find_index(_z, _limits):\n",
    "  _n = len(_z)\n",
    "  _i_min = 0\n",
    "  _i_max = _n - 1\n",
    "  _limits2 = np.zeros(2)\n",
    "  if isinstance(_limits, float):\n",
    "    _limits2[0:2] = _limits\n",
    "  else:\n",
    "    _limits2 = _limits\n",
    "          \n",
    "  for i in range(_n):\n",
    "    if _z[i]<_limits2[0] and i>_i_min :\n",
    "      _i_min = i\n",
    "    if _z[i]>_limits2[1] and i<_i_max :\n",
    "      _i_max = i\n",
    "  #print('zlimits='+str(_limits))\n",
    "  #print('i_min='+str(_i_min)+', i_max='+str(_i_max))\n",
    "  \n",
    "  if isinstance(_limits, float):\n",
    "    return _i_min\n",
    "  else:\n",
    "    return _i_min, _i_max\n",
    "\n",
    "def diff_central(x, y):\n",
    "  x0 = x[:-2]\n",
    "  x1 = x[1:-1]\n",
    "  x2 = x[2:]\n",
    "  y0 = y[:-2]\n",
    "  y1 = y[1:-1]\n",
    "  y2 = y[2:]\n",
    "  f = (x2 - x1)/(x2 - x0)\n",
    "  f1 = (1-f)*(y2 - y1)/(x2 - x1) + f*(y1 - y0)/(x1 - x0)\n",
    "  f2 = x.copy()\n",
    "  f2[1:-1] = f1\n",
    "  f2[0] = f1[0]\n",
    "  f2[-1] = f1[-1]\n",
    "  return f2"
   ]
  },
  {
   "cell_type": "code",
   "execution_count": 25,
   "metadata": {},
   "outputs": [],
   "source": [
    "#kappa = 0.4\n",
    "#nu = 1.511e-5\n",
    "#PEX = 1.45444104333\n",
    "#PEY = 8.72664625997\n",
    "#hbar = 0.46\n",
    "#uinfty = 2.54390548295\n",
    "dt = 0.68543297937\n",
    "#Rotational angular period\n",
    "T_turb = 42.84\n",
    "U_star = 0.356\n",
    "#U_star = 0.45\n",
    "H_hub = 70\n",
    "#Mean finite velocity\n",
    "U = 11.5258407161\n",
    "tis = 200\n",
    "tie = 15000\n",
    "tii = 200\n",
    "nti = int((tie - tis) / tii + 1)"
   ]
  },
  {
   "cell_type": "code",
   "execution_count": 26,
   "metadata": {},
   "outputs": [
    {
     "name": "stdout",
     "output_type": "stream",
     "text": [
      "Current working directory: d:\\post\\Fixed_new\n"
     ]
    }
   ],
   "source": [
    "path = 'd:\\post'\n",
    "casenames = [\"Fixed_new\", \"Pitch_test\", \"SWAY\", \"SWAY\"]\n",
    "os.chdir(path+'\\Fixed_new')\n",
    "print(\"Current working directory: {0}\".format(os.getcwd()) )\n",
    "casename_s = 0\n",
    "casename_e = 4"
   ]
  },
  {
   "cell_type": "code",
   "execution_count": 29,
   "metadata": {},
   "outputs": [
    {
     "name": "stdout",
     "output_type": "stream",
     "text": [
      "Reading file DAT_0000000200.h5\n",
      "Reading file DAT_0000000400.h5\n",
      "Reading file DAT_0000000600.h5\n",
      "Reading file DAT_0000000800.h5\n",
      "Reading file DAT_0000001000.h5\n",
      "Reading file DAT_0000001200.h5\n",
      "Reading file DAT_0000001400.h5\n",
      "Reading file DAT_0000001600.h5\n",
      "Reading file DAT_0000001800.h5\n",
      "Reading file DAT_0000002000.h5\n",
      "Reading file DAT_0000002200.h5\n",
      "Reading file DAT_0000002400.h5\n",
      "Reading file DAT_0000002600.h5\n",
      "Reading file DAT_0000002800.h5\n",
      "Reading file DAT_0000003000.h5\n",
      "Reading file DAT_0000003200.h5\n",
      "Reading file DAT_0000003400.h5\n",
      "Reading file DAT_0000003600.h5\n",
      "Reading file DAT_0000003800.h5\n",
      "Reading file DAT_0000004000.h5\n",
      "Reading file DAT_0000004200.h5\n",
      "Reading file DAT_0000004400.h5\n",
      "Reading file DAT_0000004600.h5\n",
      "Reading file DAT_0000004800.h5\n",
      "Reading file DAT_0000005000.h5\n",
      "Reading file DAT_0000005200.h5\n",
      "Reading file DAT_0000005400.h5\n",
      "Reading file DAT_0000005600.h5\n",
      "Reading file DAT_0000005800.h5\n",
      "Reading file DAT_0000006000.h5\n",
      "Reading file DAT_0000006200.h5\n",
      "Reading file DAT_0000006400.h5\n",
      "Reading file DAT_0000006600.h5\n",
      "Reading file DAT_0000006800.h5\n",
      "Reading file DAT_0000007000.h5\n",
      "Reading file DAT_0000007200.h5\n",
      "Reading file DAT_0000007400.h5\n",
      "Reading file DAT_0000007600.h5\n",
      "Reading file DAT_0000007800.h5\n",
      "Reading file DAT_0000008000.h5\n",
      "Reading file DAT_0000008200.h5\n",
      "Reading file DAT_0000008400.h5\n",
      "Reading file DAT_0000008600.h5\n",
      "Reading file DAT_0000008800.h5\n",
      "Reading file DAT_0000009000.h5\n",
      "Reading file DAT_0000009200.h5\n",
      "Reading file DAT_0000009400.h5\n",
      "Reading file DAT_0000009600.h5\n",
      "Reading file DAT_0000009800.h5\n",
      "Reading file DAT_0000010000.h5\n",
      "Reading file DAT_0000010200.h5\n",
      "Reading file DAT_0000010400.h5\n",
      "Reading file DAT_0000010600.h5\n",
      "Reading file DAT_0000010800.h5\n",
      "Reading file DAT_0000011000.h5\n",
      "Reading file DAT_0000011200.h5\n",
      "Reading file DAT_0000011400.h5\n",
      "Reading file DAT_0000011600.h5\n",
      "Reading file DAT_0000011800.h5\n",
      "Reading file DAT_0000012000.h5\n",
      "Reading file DAT_0000012200.h5\n",
      "Reading file DAT_0000012400.h5\n",
      "Reading file DAT_0000012600.h5\n",
      "Reading file DAT_0000012800.h5\n",
      "Reading file DAT_0000013000.h5\n",
      "Reading file DAT_0000013200.h5\n",
      "Reading file DAT_0000013400.h5\n",
      "Reading file DAT_0000013600.h5\n",
      "Reading file DAT_0000013800.h5\n",
      "Reading file DAT_0000014000.h5\n",
      "Reading file DAT_0000014200.h5\n",
      "Reading file DAT_0000014400.h5\n",
      "Reading file DAT_0000014600.h5\n",
      "Reading file DAT_0000014800.h5\n",
      "Reading file DAT_0000015000.h5\n"
     ]
    }
   ],
   "source": [
    "for it in range(nti):\n",
    "    ti = tis + tii * it\n",
    "    time = ti * dt\n",
    "    fname = 'DAT_{:010d}.h5'.format(ti)\n",
    "    print(\"Reading file \"+ fname)\n",
    "    f = h5py.File(fname, \"r\")\n",
    "\n",
    "    #print(\"Keys: %s\" % f.keys())\n",
    "    ## Old version Keys: [u'dz', u'dzw', u'eta', u'eta0', u'hh', u'pp', u'u', u'v', u'w', u'z', u'zw', u'zz']\n",
    "    ## New version Keys: [u'eta', u'hh', u'pp', u'u', u'v', u'w', u'z']\n",
    "    \n",
    "    zz = np.array(f[\"z\"][:,0,0]).copy()\n",
    "    u = f[\"u\"]\n",
    "    v = f[\"v\"]\n",
    "    w2 = f[\"w\"]\n",
    "    w = np.array(w2).copy()\n",
    "\n",
    "#   print(u.shape)\n",
    "\n",
    "    NPX = u.shape[2]\n",
    "    NPY = u.shape[1]\n",
    "    NPZ = u.shape[0]\n",
    "    \n",
    "    if it==0:\n",
    "      u_m_all = np.zeros((NPZ,3))\n",
    "      uu_m_all = np.zeros((NPZ,6))\n",
    "\n",
    "    w[0, :, :] = w2[0, :, :]\n",
    "    for k in range(1,NPZ):\n",
    "      w[k, :, :] = 0.5*(w2[k-1, :, :] + w2[k, :, :])\n",
    "\n",
    "    u_m = np.zeros((NPZ,3))\n",
    "    uu_m1 = np.zeros((NPZ,6))\n",
    "    uu_m2 = np.zeros((NPZ,6))\n",
    "\n",
    "    for k in range(NPZ):\n",
    "      u_m[k, 0] = np.average(u[k,:,:])\n",
    "      u_m[k, 1] = np.average(v[k,:,:])\n",
    "      u_m[k, 2] = np.average(w[k,:,:])\n",
    "      uu_m1[k, 0] = np.average(u[k,:,:]**2)\n",
    "      uu_m1[k, 1] = np.average(v[k,:,:]**2)\n",
    "      uu_m1[k, 2] = np.average(w[k,:,:]**2)\n",
    "      uu_m1[k, 3] = np.average(u[k,:,:]*v[k,:,:])\n",
    "      uu_m1[k, 4] = np.average(u[k,:,:]*w[k,:,:])\n",
    "      uu_m1[k, 5] = np.average(v[k,:,:]*w[k,:,:])\n",
    "      uu_m2[k, 0:3] = uu_m1[k, 0:3] - u_m[k,0:3]**2\n",
    "      uu_m2[k, 3] = uu_m1[k, 3] - u_m[k, 0] * u_m[k, 1]\n",
    "      uu_m2[k, 4] = uu_m1[k, 4] - u_m[k, 0] * u_m[k, 2]\n",
    "      uu_m2[k, 5] = uu_m1[k, 5] - u_m[k, 1] * u_m[k, 2]\n",
    "\n",
    "    u_m_all = u_m_all + u_m\n",
    "    uu_m_all = uu_m_all + uu_m2\n",
    "\n",
    "    mean_flux = np.trapz(u_m[:,0], zz[:])\n",
    "\n",
    "u_m_all = u_m_all / nti\n",
    "uu_m_all = uu_m_all / nti\n"
   ]
  },
  {
   "cell_type": "code",
   "execution_count": 7,
   "metadata": {},
   "outputs": [
    {
     "name": "stdout",
     "output_type": "stream",
     "text": [
      "End process directory: d:\\post\\Fixed_new\n"
     ]
    }
   ],
   "source": [
    "data = np.zeros((NPZ,5))\n",
    "data[:,0] = zz[:]/H_hub\n",
    "data[:,1] = (u_m_all[:,0]*U)#/U_star\n",
    "print(\"End process directory: {0}\".format(os.getcwd()) )"
   ]
  },
  {
   "cell_type": "code",
   "execution_count": 8,
   "metadata": {},
   "outputs": [
    {
     "name": "stdout",
     "output_type": "stream",
     "text": [
      "Current working directory: d:\\post\\Pitch_test\n"
     ]
    }
   ],
   "source": [
    "#change working directory\n",
    "os.chdir(path+'\\Pitch_test')\n",
    "print(\"Current working directory: {0}\".format(os.getcwd()) )"
   ]
  },
  {
   "cell_type": "code",
   "execution_count": 12,
   "metadata": {},
   "outputs": [],
   "source": [
    "for it in range(nti):\n",
    "    ti = tis + tii * it\n",
    "    time = ti * dt\n",
    "    fname = 'DAT_{:010d}.h5'.format(ti)\n",
    "#    print(\"Reading file \"+ fname)\n",
    "    f = h5py.File(fname, \"r\")\n",
    "\n",
    "    #print(\"Keys: %s\" % f.keys())\n",
    "    ## Old version Keys: [u'dz', u'dzw', u'eta', u'eta0', u'hh', u'pp', u'u', u'v', u'w', u'z', u'zw', u'zz']\n",
    "    ## New version Keys: [u'eta', u'hh', u'pp', u'u', u'v', u'w', u'z']\n",
    "    \n",
    "    zz = np.array(f[\"z\"][:,0,0]).copy()\n",
    "    u = f[\"u\"]\n",
    "    v = f[\"v\"]\n",
    "    w2 = f[\"w\"]\n",
    "    w = np.array(w2).copy()\n",
    "\n",
    "#   print(u.shape)\n",
    "\n",
    "    NPX = u.shape[2]\n",
    "    NPY = u.shape[1]\n",
    "    NPZ = u.shape[0]\n",
    "    \n",
    "    if it==0:\n",
    "      u_m_all = np.zeros((NPZ,3))\n",
    "      uu_m_all = np.zeros((NPZ,6))\n",
    "\n",
    "    w[0, :, :] = w2[0, :, :]\n",
    "    for k in range(1,NPZ):\n",
    "      w[k, :, :] = 0.5*(w2[k-1, :, :] + w2[k, :, :])\n",
    "\n",
    "    u_m = np.zeros((NPZ,3))\n",
    "    uu_m1 = np.zeros((NPZ,6))\n",
    "    uu_m2 = np.zeros((NPZ,6))\n",
    "\n",
    "    for k in range(NPZ):\n",
    "      u_m[k, 0] = np.average(u[k,:,:])\n",
    "      u_m[k, 1] = np.average(v[k,:,:])\n",
    "      u_m[k, 2] = np.average(w[k,:,:])\n",
    "      uu_m1[k, 0] = np.average(u[k,:,:]**2)\n",
    "      uu_m1[k, 1] = np.average(v[k,:,:]**2)\n",
    "      uu_m1[k, 2] = np.average(w[k,:,:]**2)\n",
    "      uu_m1[k, 3] = np.average(u[k,:,:]*v[k,:,:])\n",
    "      uu_m1[k, 4] = np.average(u[k,:,:]*w[k,:,:])\n",
    "      uu_m1[k, 5] = np.average(v[k,:,:]*w[k,:,:])\n",
    "      uu_m2[k, 0:3] = uu_m1[k, 0:3] - u_m[k,0:3]**2\n",
    "      uu_m2[k, 3] = uu_m1[k, 3] - u_m[k, 0] * u_m[k, 1]\n",
    "      uu_m2[k, 4] = uu_m1[k, 4] - u_m[k, 0] * u_m[k, 2]\n",
    "      uu_m2[k, 5] = uu_m1[k, 5] - u_m[k, 1] * u_m[k, 2]\n",
    "\n",
    "    u_m_all = u_m_all + u_m\n",
    "    uu_m_all = uu_m_all + uu_m2\n",
    "\n",
    "    mean_flux = np.trapz(u_m[:,0], zz[:])\n",
    "\n",
    "u_m_all = u_m_all / nti\n",
    "uu_m_all = uu_m_all / nti"
   ]
  },
  {
   "cell_type": "code",
   "execution_count": 13,
   "metadata": {},
   "outputs": [
    {
     "name": "stdout",
     "output_type": "stream",
     "text": [
      "End process directory: d:\\post\\Pitch_test\n",
      "Current working directory: d:\\post\\SWAY\n"
     ]
    }
   ],
   "source": [
    "#I made a mistake here. I set the different NPZ among ather cases. \n",
    "#So I will use u_m_all[1:,0] instead.\n",
    "#I will update it later.\n",
    "#data[:,2] = (u_m_all[:64,0]*U)#/U_star\n",
    "data[:,2] = (u_m_all[:,0]*U)\n",
    "print(\"End process directory: {0}\".format(os.getcwd()) )\n",
    "os.chdir(path+'\\SWAY')\n",
    "print(\"Current working directory: {0}\".format(os.getcwd()) )"
   ]
  },
  {
   "cell_type": "code",
   "execution_count": 17,
   "metadata": {},
   "outputs": [],
   "source": [
    "for it in range(50):\n",
    "    #ti = tis + tii * it\n",
    "    ti = 5000 + tii * it\n",
    "    time = ti * dt\n",
    "    fname = 'DAT_{:010d}.h5'.format(ti)\n",
    "#    print(\"Reading file \"+ fname)\n",
    "    f = h5py.File(fname, \"r\")\n",
    "\n",
    "    #print(\"Keys: %s\" % f.keys())\n",
    "    ## Old version Keys: [u'dz', u'dzw', u'eta', u'eta0', u'hh', u'pp', u'u', u'v', u'w', u'z', u'zw', u'zz']\n",
    "    ## New version Keys: [u'eta', u'hh', u'pp', u'u', u'v', u'w', u'z']\n",
    "    \n",
    "    zz = np.array(f[\"z\"][:,0,0]).copy()\n",
    "    u = f[\"u\"]\n",
    "    v = f[\"v\"]\n",
    "    w2 = f[\"w\"]\n",
    "    w = np.array(w2).copy()\n",
    "\n",
    "#   print(u.shape)\n",
    "\n",
    "    NPX = u.shape[2]\n",
    "    NPY = u.shape[1]\n",
    "    NPZ = u.shape[0]\n",
    "    \n",
    "    if it==0:\n",
    "      u_m_all = np.zeros((NPZ,3))\n",
    "      uu_m_all = np.zeros((NPZ,6))\n",
    "\n",
    "    w[0, :, :] = w2[0, :, :]\n",
    "    for k in range(1,NPZ):\n",
    "      w[k, :, :] = 0.5*(w2[k-1, :, :] + w2[k, :, :])\n",
    "\n",
    "    u_m = np.zeros((NPZ,3))\n",
    "    uu_m1 = np.zeros((NPZ,6))\n",
    "    uu_m2 = np.zeros((NPZ,6))\n",
    "\n",
    "    for k in range(NPZ):\n",
    "      u_m[k, 0] = np.average(u[k,:,:])\n",
    "      u_m[k, 1] = np.average(v[k,:,:])\n",
    "      u_m[k, 2] = np.average(w[k,:,:])\n",
    "      uu_m1[k, 0] = np.average(u[k,:,:]**2)\n",
    "      uu_m1[k, 1] = np.average(v[k,:,:]**2)\n",
    "      uu_m1[k, 2] = np.average(w[k,:,:]**2)\n",
    "      uu_m1[k, 3] = np.average(u[k,:,:]*v[k,:,:])\n",
    "      uu_m1[k, 4] = np.average(u[k,:,:]*w[k,:,:])\n",
    "      uu_m1[k, 5] = np.average(v[k,:,:]*w[k,:,:])\n",
    "      uu_m2[k, 0:3] = uu_m1[k, 0:3] - u_m[k,0:3]**2\n",
    "      uu_m2[k, 3] = uu_m1[k, 3] - u_m[k, 0] * u_m[k, 1]\n",
    "      uu_m2[k, 4] = uu_m1[k, 4] - u_m[k, 0] * u_m[k, 2]\n",
    "      uu_m2[k, 5] = uu_m1[k, 5] - u_m[k, 1] * u_m[k, 2]\n",
    "\n",
    "    u_m_all = u_m_all + u_m\n",
    "    uu_m_all = uu_m_all + uu_m2\n",
    "\n",
    "    mean_flux = np.trapz(u_m[:,0], zz[:])\n",
    "\n",
    "u_m_all = u_m_all / nti\n",
    "uu_m_all = uu_m_all / nti"
   ]
  },
  {
   "cell_type": "code",
   "execution_count": 18,
   "metadata": {},
   "outputs": [
    {
     "name": "stdout",
     "output_type": "stream",
     "text": [
      "End process directory: d:\\post\\SWAY\n",
      "Current working directory: d:\\post\\Wave_no\n"
     ]
    }
   ],
   "source": [
    "data[:,3] = (u_m_all[:,0]*U)#/U_star\n",
    "print(\"End process directory: {0}\".format(os.getcwd()) )\n",
    "#change working directory\n",
    "os.chdir(path+'\\Wave_no')\n",
    "print(\"Current working directory: {0}\".format(os.getcwd()) )\n"
   ]
  },
  {
   "cell_type": "code",
   "execution_count": 19,
   "metadata": {},
   "outputs": [],
   "source": [
    "for it in range(nti):\n",
    "    ti = tis + tii * it\n",
    "    time = ti * dt\n",
    "    fname = 'DAT_{:010d}.h5'.format(ti)\n",
    "#    print(\"Reading file \"+ fname)\n",
    "    f = h5py.File(fname, \"r\")\n",
    "\n",
    "    #print(\"Keys: %s\" % f.keys())\n",
    "    ## Old version Keys: [u'dz', u'dzw', u'eta', u'eta0', u'hh', u'pp', u'u', u'v', u'w', u'z', u'zw', u'zz']\n",
    "    ## New version Keys: [u'eta', u'hh', u'pp', u'u', u'v', u'w', u'z']\n",
    "    \n",
    "    zz = np.array(f[\"z\"][:,0,0]).copy()\n",
    "    u = f[\"u\"]\n",
    "    v = f[\"v\"]\n",
    "    w2 = f[\"w\"]\n",
    "    w = np.array(w2).copy()\n",
    "\n",
    "#   print(u.shape)\n",
    "\n",
    "    NPX = u.shape[2]\n",
    "    NPY = u.shape[1]\n",
    "    NPZ = u.shape[0]\n",
    "    \n",
    "    if it==0:\n",
    "      u_m_all = np.zeros((NPZ,3))\n",
    "      uu_m_all = np.zeros((NPZ,6))\n",
    "\n",
    "    w[0, :, :] = w2[0, :, :]\n",
    "    for k in range(1,NPZ):\n",
    "      w[k, :, :] = 0.5*(w2[k-1, :, :] + w2[k, :, :])\n",
    "\n",
    "    u_m = np.zeros((NPZ,3))\n",
    "    uu_m1 = np.zeros((NPZ,6))\n",
    "    uu_m2 = np.zeros((NPZ,6))\n",
    "\n",
    "    for k in range(NPZ):\n",
    "      u_m[k, 0] = np.average(u[k,:,:])\n",
    "      u_m[k, 1] = np.average(v[k,:,:])\n",
    "      u_m[k, 2] = np.average(w[k,:,:])\n",
    "      uu_m1[k, 0] = np.average(u[k,:,:]**2)\n",
    "      uu_m1[k, 1] = np.average(v[k,:,:]**2)\n",
    "      uu_m1[k, 2] = np.average(w[k,:,:]**2)\n",
    "      uu_m1[k, 3] = np.average(u[k,:,:]*v[k,:,:])\n",
    "      uu_m1[k, 4] = np.average(u[k,:,:]*w[k,:,:])\n",
    "      uu_m1[k, 5] = np.average(v[k,:,:]*w[k,:,:])\n",
    "      uu_m2[k, 0:3] = uu_m1[k, 0:3] - u_m[k,0:3]**2\n",
    "      uu_m2[k, 3] = uu_m1[k, 3] - u_m[k, 0] * u_m[k, 1]\n",
    "      uu_m2[k, 4] = uu_m1[k, 4] - u_m[k, 0] * u_m[k, 2]\n",
    "      uu_m2[k, 5] = uu_m1[k, 5] - u_m[k, 1] * u_m[k, 2]\n",
    "\n",
    "    u_m_all = u_m_all + u_m\n",
    "    uu_m_all = uu_m_all + uu_m2\n",
    "\n",
    "    mean_flux = np.trapz(u_m[:,0], zz[:])\n",
    "\n",
    "u_m_all = u_m_all / nti\n",
    "uu_m_all = uu_m_all / nti"
   ]
  },
  {
   "cell_type": "code",
   "execution_count": 20,
   "metadata": {},
   "outputs": [
    {
     "name": "stdout",
     "output_type": "stream",
     "text": [
      "End process directory: d:\\post\\Wave_no\n"
     ]
    }
   ],
   "source": [
    "data[:,4] = (u_m_all[:,0]*U)#/U_star\n",
    "print(\"End process directory: {0}\".format(os.getcwd()) )"
   ]
  },
  {
   "cell_type": "code",
   "execution_count": 22,
   "metadata": {},
   "outputs": [
    {
     "name": "stdout",
     "output_type": "stream",
     "text": [
      "visualize data\n"
     ]
    },
    {
     "data": {
      "image/png": "[encoded data removed]",
      "text/plain": [
       "<Figure size 432x288 with 1 Axes>"
      ]
     },
     "metadata": {
      "needs_background": "light"
     },
     "output_type": "display_data"
    }
   ],
   "source": [
    "print(\"visualize data\")\n",
    "%matplotlib inline\n",
    "#plt.style.use('classic')\n",
    "fig, ax = plt.subplots()\n",
    "plt.plot(data[:,1], data[:,0], data[:,2], data[:,0], data[:,3], data[:,0], data[:,4], data[:,0]) \n",
    "plt.gca().get_lines()[0].set_color(\"black\")\n",
    "plt.gca().get_lines()[1].set_color(\"red\")\n",
    "plt.gca().get_lines()[2].set_color(\"green\")\n",
    "plt.gca().get_lines()[3].set_color(\"yellow\")\n",
    "plt.gca().get_lines()[0].set_linestyle(\"-\")\n",
    "plt.gca().get_lines()[1].set_linestyle(\"--\")\n",
    "plt.gca().get_lines()[2].set_linestyle(\"--\")\n",
    "plt.gca().get_lines()[2].set_linestyle(\"-\")\n",
    "plt.ylabel('z/Hhub')\n",
    "plt.xlabel('<U>/U*')\n",
    "plt.legend([\"Fixed Turbine\", \"Pitch Turbine\", \"SWAY Turbine\", \"Fixed_no_swell\"], loc='upper left')\n",
    "ax.xaxis.set_minor_locator(tck.AutoMinorLocator())\n",
    "ax.yaxis.set_minor_locator(tck.AutoMinorLocator())\n",
    "#set minor tick\n",
    "#plt.yscale('log')\n",
    "plt.show()"
   ]
  },
  {
   "cell_type": "code",
   "execution_count": null,
   "metadata": {},
   "outputs": [
    {
     "name": "stdout",
     "output_type": "stream",
     "text": [
      "Store data to outputfile\n",
      "End!!!\n",
      "Current working directory: d:\\post\n"
     ]
    }
   ],
   "source": [
    "#Store data to outputfile\n",
    "print(\"Store data to outputfile\")\n",
    "print(\"End!!!\")\n",
    "path = 'd:\\post'\n",
    "os.chdir(path)\n",
    "\n",
    "outputfolder = 'post_result/'\n",
    "#create output folder named 'post_result' \n",
    "if not os.path.exists(outputfolder):\n",
    "    os.makedirs(outputfolder)\n",
    "print(\"Current working directory: {0}\".format(os.getcwd()))\n",
    "#np.savetxt('power_density.dat', data)\n",
    "f = open( outputfolder + \"mean velocity profile.plt\",'w')\n",
    "f.write(\"VARIABLES = z/H_hub, Fixed, Pitch, SWAY, Fixed_no_swell  \\n\")\n",
    "np.savetxt(f, data)\n",
    "f.close()"
   ]
  }
 ],
 "metadata": {
  "interpreter": {
   "hash": "26de051ba29f2982a8de78e945f0abaf191376122a1563185a90213a26c5da77"
  },
  "kernelspec": {
   "display_name": "Python 3.10.0 64-bit",
   "language": "python",
   "name": "python3"
  },
  "language_info": {
   "codemirror_mode": {
    "name": "ipython",
    "version": 3
   },
   "file_extension": ".py",
   "mimetype": "text/x-python",
   "name": "python",
   "nbconvert_exporter": "python",
   "pygments_lexer": "ipython3",
   "version": "3.10.0"
  },
  "orig_nbformat": 4
 },
 "nbformat": 4,
 "nbformat_minor": 2
}
