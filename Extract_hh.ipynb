{
 "cells": [
  {
   "cell_type": "code",
   "execution_count": 19,
   "metadata": {},
   "outputs": [],
   "source": [
    "#import library\n",
    "import numpy as np\n",
    "import matplotlib as mpl\n",
    "import pandas as pd\n",
    "import matplotlib.pyplot as plt\n",
    "import matplotlib.ticker as tck\n",
    "import os"
   ]
  },
  {
   "cell_type": "code",
   "execution_count": 20,
   "metadata": {},
   "outputs": [
    {
     "name": "stdout",
     "output_type": "stream",
     "text": [
      "Current Working directory: d:\\post\\Project\\Pitch_Turbine\n"
     ]
    }
   ],
   "source": [
    "#declare working directory\n",
    "path = 'd:\\post\\Project\\Pitch_Turbine'\n",
    "os.chdir(path)\n",
    "print('Current Working directory: ' + os.getcwd())"
   ]
  },
  {
   "cell_type": "code",
   "execution_count": 21,
   "metadata": {},
   "outputs": [],
   "source": [
    "#Declare some variable\n",
    "dt = 0.3150659270686558 \n",
    "#dt = 0.2941315855\n",
    "#dt = 0.68543297937\n",
    "nturbinex = 4\n",
    "nturbiney = 4\n",
    "nturbine = 16\n",
    "#Diameter of turbine\n",
    "D = 80\n",
    "#Other variable\n",
    "Sx = 7\n",
    "Sy = 7\n",
    "#Power density\n",
    "Power_density = []\n",
    "#Time variable\n",
    "time = []\n",
    "#Mean velocity\n",
    "U = 11.5258407161\n",
    "#frequency of wave\n",
    "omega = 0.0498561155567\n",
    "#omega = 0.42723635380725111\n",
    "#wave period\n",
    "T = 2*np.pi/omega\n",
    "#turbine hub height\n",
    "H_hub = 70.0\n",
    "#Rotational angular period\n",
    "T_turb = 42.84\n",
    "#wave period\n",
    "#T_wave = 14.706579276758511\n",
    "T_wave = 126.02637082768938"
   ]
  },
  {
   "cell_type": "code",
   "execution_count": 22,
   "metadata": {},
   "outputs": [],
   "source": [
    "fid = open('log.uref','r')\n",
    "content=fid.readlines()\n",
    "# Turbine_           1 :angvel=   50.735637598099999      , TSR=   4.4059452767309510      , Uref=  0.86364504796591524\n",
    "196034763     \n",
    "\n",
    "nline = len(content)\n",
    "nt = nline / nturbine\n",
    "data=np.zeros((nline,4))\n",
    "\n",
    "for i in range(int(nt)):\n",
    "    for j in range(nturbine):\n",
    "        i2 = nturbine * i + j\n",
    "        value=content[i2].split()\n",
    "        #print(value)\n",
    "        data[i2,0]=(i+1)*dt\n",
    "        data[i2,1]=value[3] # angvel\n",
    "        data[i2,2]=value[6] # TSR\n",
    "        data[i2,3]=value[9] # Uref\n",
    "fid.close()\n",
    "\n",
    "np.savetxt('uref.dat', data)\n",
    "fid = open('log.cthrust','r')\n",
    "content=fid.readlines()\n",
    "# Thrust=  0.10233803188671066      , Torque=   6.1668522808625047E-003 , C_Thrust=  0.38109671967396186      , Power=   6.3533464098887757E-002 , C_Power=  0.12840488196034763     \n",
    "\n",
    "nline = len(content)\n",
    "nt = nline / nturbine\n",
    "data=np.zeros((int(nturbine*nt),6))\n",
    "for i in range(int(nt)):\n",
    "    for j in range(nturbine):\n",
    "      i2 = nturbine * i + j\n",
    "      value=content[i2].split()\n",
    "      #print(value)\n",
    "      data[i2,0]=(i+1)*dt # time\n",
    "      data[i2,1]=value[1] # thrust\n",
    "      data[i2,2]=value[4] # torque\n",
    "      data[i2,3]=value[7] # c_thrust\n",
    "      data[i2,4]=value[10] # power\n",
    "      data[i2,5]=float(value[13])*1.0 # c_power\n",
    "fid.close()\n",
    "\n",
    "np.savetxt('coeff.dat', data)\n",
    "#Data Frame\n",
    "data = pd.read_csv('coeff.dat', sep = '\\s+', header = None)\n",
    "data = pd.DataFrame(data)\n",
    "x = data[4] #Turbine power\n",
    "y = data[0] #time variable\n",
    "#rearrange series to array multidimensional\n",
    "x = np.array(x)\n",
    "x = x.reshape([int(nt), nturbine])\n",
    "#x = x.reshape([int(nt), nturbiney, nturbinex])\n",
    "#Normalized time variable\n",
    "for i in range(0, int(len(y)), 16):\n",
    "    #time.append(x[i]*(U/H_hub)) #Using U/H_hub\n",
    "    #time.append(y[i]/T_turb)           #Using T_turb\n",
    "    time.append(y[i]/T_wave)           #Using T_wave\n",
    "\n",
    "#calculate power density\n",
    "power_density = x/(Sx*Sy*D)\n",
    "power_density_average_pitch = np.mean(power_density, axis = 1)\n",
    "#power_density_average_pitch = np.mean(power_density, axis = 2)[:,0]"
   ]
  },
  {
   "cell_type": "code",
   "execution_count": 23,
   "metadata": {},
   "outputs": [
    {
     "data": {
      "text/plain": [
       "\"\\nprint('Current Working directory: ' + os.getcwd())\\nfid = open('log_hhall.dat','r')\\ncontent=fid.readlines()\\n# Turbine_           1 :angvel=   50.735637598099999      , TSR=   4.4059452767309510      , Uref=  0.86364504796591524\\n196034763     \\n\\nnline = len(content)\\nprint(nline)\\nhh=np.zeros((nline,1))\\n\\nfor i in range(int(nline)):\\n    value=content[i].split()\\n    hh[i,0]=value[2] # angvel\\n    #print(value[2])\\nfid.close()\\n\\nnp.savetxt('hh.dat', hh)\\n\""
      ]
     },
     "execution_count": 23,
     "metadata": {},
     "output_type": "execute_result"
    }
   ],
   "source": [
    "'''\n",
    "print('Current Working directory: ' + os.getcwd())\n",
    "fid = open('log_hhall.dat','r')\n",
    "content=fid.readlines()\n",
    "# Turbine_           1 :angvel=   50.735637598099999      , TSR=   4.4059452767309510      , Uref=  0.86364504796591524\n",
    "196034763     \n",
    "\n",
    "nline = len(content)\n",
    "print(nline)\n",
    "hh=np.zeros((nline,1))\n",
    "\n",
    "for i in range(int(nline)):\n",
    "    value=content[i].split()\n",
    "    hh[i,0]=value[2] # angvel\n",
    "    #print(value[2])\n",
    "fid.close()\n",
    "\n",
    "np.savetxt('hh.dat', hh)\n",
    "'''"
   ]
  },
  {
   "cell_type": "code",
   "execution_count": 24,
   "metadata": {},
   "outputs": [
    {
     "name": "stdout",
     "output_type": "stream",
     "text": [
      "Current Working directory: d:\\post\\Project\\Fixed_Turbine\n",
      "45000\n"
     ]
    }
   ],
   "source": [
    "path = 'd:\\post\\Project\\Fixed_Turbine'\n",
    "os.chdir(path)\n",
    "print('Current Working directory: ' + os.getcwd())\n",
    "#Data Frame\n",
    "data = pd.read_csv('coeff.dat', sep = '\\s+', header = None)\n",
    "data = pd.DataFrame(data)\n",
    "x = data[4] #Turbine power\n",
    "#rearrange series to array multidimensional\n",
    "x = np.array(x)\n",
    "x = x.reshape([int(len(data)/nturbine), nturbine])\n",
    "#x = x.reshape([int(len(data)/nturbine), nturbiney, nturbinex])\n",
    "#calculate power density\n",
    "power_density = x/(Sx*Sy*D)\n",
    "power_density_average = np.mean(power_density, axis = 1)\n",
    "#power_density_average = np.mean(power_density, axis = 2)[:,0]\n",
    "print(len(power_density_average))"
   ]
  },
  {
   "cell_type": "code",
   "execution_count": 25,
   "metadata": {},
   "outputs": [
    {
     "name": "stdout",
     "output_type": "stream",
     "text": [
      "Current Working directory: d:\\post\\Project\\SWAY_Turbine\n",
      "(45000,)\n"
     ]
    }
   ],
   "source": [
    "\n",
    "path = 'd:\\post\\Project\\SWAY_Turbine'\n",
    "os.chdir(path)\n",
    "print('Current Working directory: ' + os.getcwd())\n",
    "#Data Frame\n",
    "data = pd.read_csv('coeff.dat', sep = '\\s+', header = None)\n",
    "data = pd.DataFrame(data)\n",
    "x = data[4] #Turbine power\n",
    "#rearrange series to array multidimensional\n",
    "x = np.array(x)\n",
    "x = x.reshape([int(len(data)/nturbine), nturbine])\n",
    "#x = x.reshape([int(len(data)/nturbine), nturbiney, nturbinex])\n",
    "#print(x[0,0,:])\n",
    "#calculate power density\n",
    "power_density = x/(Sx*Sy*D)\n",
    "power_density_average_sway = np.mean(power_density, axis = 1)\n",
    "#power_density_average_sway = np.mean(power_density, axis = 2)[:,0]\n",
    "print(power_density_average_sway.shape)\n"
   ]
  },
  {
   "cell_type": "code",
   "execution_count": 26,
   "metadata": {},
   "outputs": [
    {
     "name": "stdout",
     "output_type": "stream",
     "text": [
      "Current Working directory: d:\\post\\Project\\Fixed_no_swell\n",
      "(45000,)\n"
     ]
    }
   ],
   "source": [
    "path = 'd:\\post\\Project\\Fixed_no_swell'\n",
    "os.chdir(path)\n",
    "print('Current Working directory: ' + os.getcwd())\n",
    "#Data Frame\n",
    "data = pd.read_csv('coeff.dat', sep = '\\s+', header = None)\n",
    "data = pd.DataFrame(data)\n",
    "x = data[4] #Turbine power\n",
    "#rearrange series to array multidimensional\n",
    "x = np.array(x)\n",
    "x = x.reshape([int(len(data)/nturbine), nturbine])\n",
    "#x = x.reshape([int(len(data)/nturbine), nturbiney, nturbinex])\n",
    "#print(x[0,0,:])\n",
    "#calculate power density\n",
    "power_density = x/(Sx*Sy*D)\n",
    "power_density_average_flat = np.mean(power_density, axis = 1)\n",
    "#power_density_average_flat = np.mean(power_density, axis = 2)[:,0]\n",
    "print(power_density_average_flat.shape)"
   ]
  },
  {
   "cell_type": "code",
   "execution_count": 27,
   "metadata": {},
   "outputs": [
    {
     "data": {
      "image/png": "[encoded data removed]",
      "text/plain": [
       "<Figure size 432x288 with 1 Axes>"
      ]
     },
     "metadata": {
      "needs_background": "light"
     },
     "output_type": "display_data"
    }
   ],
   "source": [
    "#plot\n",
    "%matplotlib inline\n",
    "mpl.rcParams['font.family'] = 'san-serif'\n",
    "plt.rcParams['text.usetex'] = True\n",
    "#plt.style.use('classic')\n",
    "fig, ax = plt.subplots()\n",
    "plt.plot(time, power_density_average,\\\n",
    "        #time, -hh*1e-02,\\\n",
    "         time, power_density_average_pitch[0:len(time)],\\\n",
    "         time, power_density_average_sway[0:len(time)],\\\n",
    "         time, power_density_average_flat[0:len(time)])\n",
    "plt.gca().get_lines()[0].set_color(\"black\")\n",
    "plt.gca().get_lines()[1].set_color(\"red\")\n",
    "plt.gca().get_lines()[2].set_color(\"green\")\n",
    "plt.gca().get_lines()[3].set_color(\"black\")\n",
    "#plt.gca().get_lines()[4].set_color(\"yellow\")\n",
    "plt.gca().get_lines()[0].set_linestyle(\"--\")\n",
    "plt.gca().get_lines()[1].set_linestyle(\"-.\")\n",
    "plt.gca().get_lines()[2].set_linestyle(\"-\")\n",
    "plt.gca().get_lines()[3].set_linestyle(\"-\")\n",
    "#plt.gca().get_lines()[4].set_linestyle(\"-\")\n",
    "\n",
    "ax.legend(['Fixed','Phase speed','Pitch', 'Sway', 'Flat'], loc='upper right')\n",
    "ax.set_xlabel('t/$T_{wave}$', fontsize=16)\n",
    "ax.set_ylabel('$P_{ij}/U^{3}$', fontsize = 16)\n",
    "ax.set_title('Power density average at $1^{st}$ row', fontsize=16)\n",
    "ax.xaxis.set_minor_locator(tck.AutoMinorLocator())\n",
    "ax.yaxis.set_minor_locator(tck.AutoMinorLocator())\n",
    "#plt.xlim([290,300])\n",
    "#plt.ylim([-0.02,0.16])\n",
    "plt.show()"
   ]
  },
  {
   "cell_type": "code",
   "execution_count": 28,
   "metadata": {},
   "outputs": [
    {
     "name": "stdout",
     "output_type": "stream",
     "text": [
      "Current Working directory: d:\\post\\LASD\n"
     ]
    }
   ],
   "source": [
    "path = 'd:\\post\\LASD'\n",
    "os.chdir(path)\n",
    "print('Current Working directory: ' + os.getcwd())\n",
    "#Data Frame\n",
    "data = pd.read_csv('coeff.dat', sep = '\\s+', header = None)\n",
    "data = pd.DataFrame(data)\n",
    "x = data[4] #Turbine power\n",
    "#rearrange series to array multidimensional\n",
    "x = np.array(x)\n",
    "x = x.reshape([int(len(data)/nturbine), nturbine])\n",
    "#x = x.reshape([int(len(data)/nturbine), nturbiney, nturbinex])\n",
    "#print(x[0,0,:])\n",
    "#calculate power density\n",
    "power_density = x/(Sx*Sy*D)\n",
    "power_density_average_LASD = np.mean(power_density, axis = 1)\n",
    "#power_density_average_sway = np.mean(power_density, axis = 2)[:,0]"
   ]
  },
  {
   "cell_type": "code",
   "execution_count": 29,
   "metadata": {},
   "outputs": [
    {
     "name": "stdout",
     "output_type": "stream",
     "text": [
      "Current Working directory: d:\\post\\Project\\Pitch_1305\n"
     ]
    }
   ],
   "source": [
    "path = 'd:\\post\\Project\\Pitch_1305'\n",
    "os.chdir(path)\n",
    "print('Current Working directory: ' + os.getcwd())\n",
    "#Data Frame\n",
    "data = pd.read_csv('coeff.dat', sep = '\\s+', header = None)\n",
    "data = pd.DataFrame(data)\n",
    "x = data[4] #Turbine power\n",
    "#rearrange series to array multidimensional\n",
    "x = np.array(x)\n",
    "x = x.reshape([int(len(data)/nturbine), nturbine])\n",
    "#x = x.reshape([int(len(data)/nturbine), nturbiney, nturbinex])\n",
    "#print(x[0,0,:])\n",
    "#calculate power density\n",
    "power_density = x/(Sx*Sy*D)\n",
    "power_density_average_fixed = np.mean(power_density, axis = 1)"
   ]
  },
  {
   "cell_type": "code",
   "execution_count": 50,
   "metadata": {},
   "outputs": [
    {
     "name": "stdout",
     "output_type": "stream",
     "text": [
      "(30000,)\n"
     ]
    }
   ],
   "source": [
    "print(power_density_average_fixed.shape)\n",
    "from scipy.fft import fft, fftfreq\n",
    "power_density_hat = np.absolute(fft(power_density_average_fixed[4500:6000]))\n",
    "num = np.size(time[:1500])\n",
    "N = len(power_density_hat)\n",
    "n = np.arange(N)\n",
    "freq = n/time[1500]\n",
    "#freq = np .abs(fftfreq(N, d=time[1]-time[0]))"
   ]
  },
  {
   "cell_type": "code",
   "execution_count": 51,
   "metadata": {},
   "outputs": [
    {
     "data": {
      "image/png": "[encoded data removed]",
      "text/plain": [
       "<Figure size 432x288 with 1 Axes>"
      ]
     },
     "metadata": {
      "needs_background": "light"
     },
     "output_type": "display_data"
    }
   ],
   "source": [
    "fig, ax = plt.subplots()\n",
    "plt.plot(freq, power_density_hat)\n",
    "plt.xlabel('$f/f_s$')\n",
    "plt.ylabel('$P_T$')\n",
    "plt.xscale('log')\n",
    "plt.yscale('log')\n",
    "#plt.xlim([0,10])\n",
    "#plt.title('Power density spectrum')\n",
    "plt.show()"
   ]
  },
  {
   "cell_type": "code",
   "execution_count": 32,
   "metadata": {},
   "outputs": [
    {
     "name": "stdout",
     "output_type": "stream",
     "text": [
      "0.06615663904832511\n"
     ]
    }
   ],
   "source": [
    "print(power_density_average_fixed.mean())\n",
    "d = np.zeros((len(time[:30000]),2))\n",
    "d[:,0] = time[:30000]\n",
    "d[:,1] = power_density_average_fixed - power_density_average_fixed.mean()\n",
    "os.chdir('d:\\post')\n",
    "outputfolder = 'post_result/'\n",
    "#create output folder named 'post_result' \n",
    "if not os.path.exists(outputfolder):\n",
    "    os.makedirs(outputfolder)\n",
    "f = open( outputfolder + \"power_density.plt\",'w')\n",
    "f.write(\"VARIABLES = t,Pij   \\n\")\n",
    "\n",
    "np.savetxt(f, d)\n",
    "f.close()"
   ]
  },
  {
   "cell_type": "code",
   "execution_count": 33,
   "metadata": {},
   "outputs": [],
   "source": [
    "def FFT(x):\n",
    "    \"\"\"\n",
    "    A recursive implementation of \n",
    "    the 1D Cooley-Tukey FFT, the \n",
    "    input should have a length of \n",
    "    power of 2. \n",
    "    \"\"\"\n",
    "    N = len(x)\n",
    "    \n",
    "    if N == 1:\n",
    "        return x\n",
    "    else:\n",
    "        X_even = FFT(x[::2])\n",
    "        X_odd = FFT(x[1::2])\n",
    "        factor = \\\n",
    "          np.exp(-2j*np.pi*np.arange(N)/ N)\n",
    "        \n",
    "        X = np.concatenate(\\\n",
    "            [X_even+factor[:int(N/2)]*X_odd,\n",
    "             X_even+factor[int(N/2):]*X_odd])\n",
    "        return X"
   ]
  }
 ],
 "metadata": {
  "interpreter": {
   "hash": "26de051ba29f2982a8de78e945f0abaf191376122a1563185a90213a26c5da77"
  },
  "kernelspec": {
   "display_name": "Python 3.10.0 64-bit",
   "language": "python",
   "name": "python3"
  },
  "language_info": {
   "codemirror_mode": {
    "name": "ipython",
    "version": 3
   },
   "file_extension": ".py",
   "mimetype": "text/x-python",
   "name": "python",
   "nbconvert_exporter": "python",
   "pygments_lexer": "ipython3",
   "version": "3.10.0"
  },
  "orig_nbformat": 4
 },
 "nbformat": 4,
 "nbformat_minor": 2
}
