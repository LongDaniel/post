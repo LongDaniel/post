{
 "cells": [
  {
   "cell_type": "code",
   "execution_count": 1,
   "metadata": {},
   "outputs": [],
   "source": [
    "#import library\n",
    "import numpy as np\n",
    "import matplotlib as mpl\n",
    "import pandas as pd\n",
    "import matplotlib.pyplot as plt\n",
    "import matplotlib.ticker as tck\n",
    "import os"
   ]
  },
  {
   "cell_type": "code",
   "execution_count": 2,
   "metadata": {},
   "outputs": [
    {
     "name": "stdout",
     "output_type": "stream",
     "text": [
      "Current Working directory: d:\\post\\Test\n"
     ]
    }
   ],
   "source": [
    "#declare working directory\n",
    "#path = 'd:\\post\\Project\\Fixed_1305'\n",
    "path = 'd:\\post\\Test'\n",
    "os.chdir(path)\n",
    "print('Current Working directory: ' + os.getcwd())"
   ]
  },
  {
   "cell_type": "code",
   "execution_count": 3,
   "metadata": {},
   "outputs": [],
   "source": [
    "#Declare some variable\n",
    "dt = 0.3150659270686558\n",
    "#dt = 0.461442495048675 \n",
    "#dt = 0.2941315855\n",
    "#dt = 0.68543297937\n",
    "nturbinex = 4\n",
    "nturbiney = 4\n",
    "nturbine = 16\n",
    "#Diameter of turbine\n",
    "D = 80\n",
    "#Other variable\n",
    "Sx = 7\n",
    "Sy = 7\n",
    "#Power density\n",
    "Power_density = []\n",
    "#Time variable\n",
    "time = []\n",
    "#Mean velocity\n",
    "U = 11.5258407161\n",
    "#frequency of wave\n",
    "omega = 0.0498561155567\n",
    "#omega = 0.42723635380725111\n",
    "#wave period\n",
    "T = 2*np.pi/omega\n",
    "#turbine hub height\n",
    "H_hub = 70.0\n",
    "#Rotational angular period\n",
    "T_turb = 42.84\n",
    "#wave period\n",
    "#T_wave = 14.706579276758511\n",
    "T_wave = 126.02637082768938"
   ]
  },
  {
   "cell_type": "code",
   "execution_count": 4,
   "metadata": {},
   "outputs": [],
   "source": [
    "fid = open('log.uref','r')\n",
    "content=fid.readlines()\n",
    "# Turbine_           1 :angvel=   50.735637598099999      , TSR=   4.4059452767309510      , Uref=  0.86364504796591524\n",
    "196034763     \n",
    "\n",
    "nline = len(content)\n",
    "nt = nline / nturbine\n",
    "data=np.zeros((nline,4))\n",
    "\n",
    "for i in range(int(nt)):\n",
    "    for j in range(nturbine):\n",
    "        i2 = nturbine * i + j\n",
    "        value=content[i2].split()\n",
    "        #print(value)\n",
    "        data[i2,0]=(i+1)*dt\n",
    "        data[i2,1]=value[3] # angvel\n",
    "        data[i2,2]=value[6] # TSR\n",
    "        data[i2,3]=value[9] # Uref\n",
    "fid.close()\n",
    "\n",
    "np.savetxt('uref.dat', data)\n",
    "fid = open('log.cthrust','r')\n",
    "content=fid.readlines()\n",
    "# Thrust=  0.10233803188671066      , Torque=   6.1668522808625047E-003 , C_Thrust=  0.38109671967396186      , Power=   6.3533464098887757E-002 , C_Power=  0.12840488196034763     \n",
    "\n",
    "nline = len(content)\n",
    "nt = nline / nturbine\n",
    "data=np.zeros((int(nturbine*nt),6))\n",
    "for i in range(int(nt)):\n",
    "    for j in range(nturbine):\n",
    "      i2 = nturbine * i + j\n",
    "      value=content[i2].split()\n",
    "      #print(value)\n",
    "      data[i2,0]=(i+1)*dt # time\n",
    "      data[i2,1]=value[1] # thrust\n",
    "      data[i2,2]=value[4] # torque\n",
    "      data[i2,3]=value[7] # c_thrust\n",
    "      data[i2,4]=value[10] # power\n",
    "      data[i2,5]=float(value[13])*1.0 # c_power\n",
    "fid.close()\n",
    "\n",
    "np.savetxt('coeff.dat', data)\n",
    "#Data Frame\n",
    "data = pd.read_csv('coeff.dat', sep = '\\s+', header = None)\n",
    "data = pd.DataFrame(data)\n",
    "x = data[4] #Turbine power\n",
    "y = data[0] #time variable\n",
    "#rearrange series to array multidimensional\n",
    "x = np.array(x)\n",
    "x = x.reshape([int(nt), nturbine])\n",
    "#x = x.reshape([int(nt), nturbiney, nturbinex])\n",
    "#Normalized time variable\n",
    "for i in range(0, int(len(y)), 16):\n",
    "    #time.append(x[i]*(U/H_hub)) #Using U/H_hub\n",
    "    #time.append(y[i]/T_turb)           #Using T_turb\n",
    "    time.append(y[i]/T_wave)           #Using T_wave\n",
    "\n",
    "#calculate power density\n",
    "power_density = x/(Sx*Sy*D)\n",
    "power_density_average_pitch = np.mean(power_density, axis = 1)\n",
    "#power_density_average_pitch = np.mean(power_density, axis = 2)[:,0]"
   ]
  },
  {
   "cell_type": "code",
   "execution_count": 5,
   "metadata": {},
   "outputs": [
    {
     "data": {
      "text/plain": [
       "\"\\nprint('Current Working directory: ' + os.getcwd())\\nfid = open('log_hhall.dat','r')\\ncontent=fid.readlines()\\n# Turbine_           1 :angvel=   50.735637598099999      , TSR=   4.4059452767309510      , Uref=  0.86364504796591524\\n196034763     \\n\\nnline = len(content)\\nprint(nline)\\nhh=np.zeros((nline,1))\\n\\nfor i in range(int(nline)):\\n    value=content[i].split()\\n    hh[i,0]=value[2] # angvel\\n    #print(value[2])\\nfid.close()\\n\\nnp.savetxt('hh.dat', hh)\\n\""
      ]
     },
     "execution_count": 5,
     "metadata": {},
     "output_type": "execute_result"
    }
   ],
   "source": [
    "'''\n",
    "print('Current Working directory: ' + os.getcwd())\n",
    "fid = open('log_hhall.dat','r')\n",
    "content=fid.readlines()\n",
    "# Turbine_           1 :angvel=   50.735637598099999      , TSR=   4.4059452767309510      , Uref=  0.86364504796591524\n",
    "196034763     \n",
    "\n",
    "nline = len(content)\n",
    "print(nline)\n",
    "hh=np.zeros((nline,1))\n",
    "\n",
    "for i in range(int(nline)):\n",
    "    value=content[i].split()\n",
    "    hh[i,0]=value[2] # angvel\n",
    "    #print(value[2])\n",
    "fid.close()\n",
    "\n",
    "np.savetxt('hh.dat', hh)\n",
    "'''"
   ]
  },
  {
   "cell_type": "code",
   "execution_count": 6,
   "metadata": {},
   "outputs": [
    {
     "name": "stdout",
     "output_type": "stream",
     "text": [
      "Current Working directory: d:\\post\\Project\\Fixed_Turbine\n",
      "15000\n"
     ]
    }
   ],
   "source": [
    "path = 'd:\\post\\Project\\Fixed_Turbine'\n",
    "os.chdir(path)\n",
    "print('Current Working directory: ' + os.getcwd())\n",
    "#Data Frame\n",
    "data = pd.read_csv('coeff.dat', sep = '\\s+', header = None)\n",
    "data = pd.DataFrame(data)\n",
    "x = data[4] #Turbine power\n",
    "#rearrange series to array multidimensional\n",
    "x = np.array(x)\n",
    "x = x.reshape([int(len(data)/nturbine), nturbine])\n",
    "#x = x.reshape([int(len(data)/nturbine), nturbiney, nturbinex])\n",
    "#calculate power density\n",
    "power_density = x/(Sx*Sy*D)\n",
    "power_density_average = np.mean(power_density, axis = 1)\n",
    "#power_density_average = np.mean(power_density, axis = 2)[:,0]\n",
    "print(len(power_density_average))"
   ]
  },
  {
   "cell_type": "code",
   "execution_count": 7,
   "metadata": {},
   "outputs": [
    {
     "name": "stdout",
     "output_type": "stream",
     "text": [
      "Current Working directory: d:\\post\\Project\\SWAY_Turbine\n",
      "(15000,)\n"
     ]
    }
   ],
   "source": [
    "\n",
    "path = 'd:\\post\\Project\\SWAY_Turbine'\n",
    "os.chdir(path)\n",
    "print('Current Working directory: ' + os.getcwd())\n",
    "#Data Frame\n",
    "data = pd.read_csv('coeff.dat', sep = '\\s+', header = None)\n",
    "data = pd.DataFrame(data)\n",
    "x = data[4] #Turbine power\n",
    "#rearrange series to array multidimensional\n",
    "x = np.array(x)\n",
    "x = x.reshape([int(len(data)/nturbine), nturbine])\n",
    "#x = x.reshape([int(len(data)/nturbine), nturbiney, nturbinex])\n",
    "#print(x[0,0,:])\n",
    "#calculate power density\n",
    "power_density = x/(Sx*Sy*D)\n",
    "power_density_average_sway = np.mean(power_density, axis = 1)\n",
    "#power_density_average_sway = np.mean(power_density, axis = 2)[:,0]\n",
    "print(power_density_average_sway.shape)\n"
   ]
  },
  {
   "cell_type": "code",
   "execution_count": 8,
   "metadata": {},
   "outputs": [
    {
     "name": "stdout",
     "output_type": "stream",
     "text": [
      "Current Working directory: d:\\post\\Project\\Fixed_no_swell\n",
      "(45000,)\n"
     ]
    }
   ],
   "source": [
    "path = 'd:\\post\\Project\\Fixed_no_swell'\n",
    "os.chdir(path)\n",
    "print('Current Working directory: ' + os.getcwd())\n",
    "#Data Frame\n",
    "data = pd.read_csv('coeff.dat', sep = '\\s+', header = None)\n",
    "data = pd.DataFrame(data)\n",
    "x = data[4] #Turbine power\n",
    "#rearrange series to array multidimensional\n",
    "x = np.array(x)\n",
    "x = x.reshape([int(len(data)/nturbine), nturbine])\n",
    "#x = x.reshape([int(len(data)/nturbine), nturbiney, nturbinex])\n",
    "#print(x[0,0,:])\n",
    "#calculate power density\n",
    "power_density = x/(Sx*Sy*D)\n",
    "power_density_average_flat = np.mean(power_density, axis = 1)\n",
    "#power_density_average_flat = np.mean(power_density, axis = 2)[:,0]\n",
    "print(power_density_average_flat.shape)"
   ]
  },
  {
   "cell_type": "code",
   "execution_count": 9,
   "metadata": {},
   "outputs": [
    {
     "ename": "ValueError",
     "evalue": "x and y must have same first dimension, but have shapes (4000,) and (15000,)",
     "output_type": "error",
     "traceback": [
      "\u001b[1;31m---------------------------------------------------------------------------\u001b[0m",
      "\u001b[1;31mValueError\u001b[0m                                Traceback (most recent call last)",
      "\u001b[1;32md:\\post\\00_post_processing\\Extract_hh.ipynb Cell 9'\u001b[0m in \u001b[0;36m<cell line: 7>\u001b[1;34m()\u001b[0m\n\u001b[0;32m      <a href='vscode-notebook-cell:/d%3A/post/00_post_processing/Extract_hh.ipynb#ch0000008?line=4'>5</a>\u001b[0m \u001b[39m#plt.style.use('classic')\u001b[39;00m\n\u001b[0;32m      <a href='vscode-notebook-cell:/d%3A/post/00_post_processing/Extract_hh.ipynb#ch0000008?line=5'>6</a>\u001b[0m fig, ax \u001b[39m=\u001b[39m plt\u001b[39m.\u001b[39msubplots()\n\u001b[1;32m----> <a href='vscode-notebook-cell:/d%3A/post/00_post_processing/Extract_hh.ipynb#ch0000008?line=6'>7</a>\u001b[0m plt\u001b[39m.\u001b[39;49mplot(time, power_density_average,\\\n\u001b[0;32m      <a href='vscode-notebook-cell:/d%3A/post/00_post_processing/Extract_hh.ipynb#ch0000008?line=7'>8</a>\u001b[0m         \u001b[39m#time, -hh*1e-02,\\\u001b[39;49;00m\n\u001b[0;32m      <a href='vscode-notebook-cell:/d%3A/post/00_post_processing/Extract_hh.ipynb#ch0000008?line=8'>9</a>\u001b[0m          time, power_density_average_pitch[\u001b[39m0\u001b[39;49m:\u001b[39mlen\u001b[39;49m(time)],\\\n\u001b[0;32m     <a href='vscode-notebook-cell:/d%3A/post/00_post_processing/Extract_hh.ipynb#ch0000008?line=9'>10</a>\u001b[0m          time, power_density_average_sway[\u001b[39m0\u001b[39;49m:\u001b[39mlen\u001b[39;49m(time)],\\\n\u001b[0;32m     <a href='vscode-notebook-cell:/d%3A/post/00_post_processing/Extract_hh.ipynb#ch0000008?line=10'>11</a>\u001b[0m          time, power_density_average_flat[\u001b[39m0\u001b[39;49m:\u001b[39mlen\u001b[39;49m(time)])\n\u001b[0;32m     <a href='vscode-notebook-cell:/d%3A/post/00_post_processing/Extract_hh.ipynb#ch0000008?line=11'>12</a>\u001b[0m plt\u001b[39m.\u001b[39mgca()\u001b[39m.\u001b[39mget_lines()[\u001b[39m0\u001b[39m]\u001b[39m.\u001b[39mset_color(\u001b[39m\"\u001b[39m\u001b[39mblack\u001b[39m\u001b[39m\"\u001b[39m)\n\u001b[0;32m     <a href='vscode-notebook-cell:/d%3A/post/00_post_processing/Extract_hh.ipynb#ch0000008?line=12'>13</a>\u001b[0m plt\u001b[39m.\u001b[39mgca()\u001b[39m.\u001b[39mget_lines()[\u001b[39m1\u001b[39m]\u001b[39m.\u001b[39mset_color(\u001b[39m\"\u001b[39m\u001b[39mred\u001b[39m\u001b[39m\"\u001b[39m)\n",
      "File \u001b[1;32m~\\AppData\\Roaming\\Python\\Python310\\site-packages\\matplotlib\\pyplot.py:2769\u001b[0m, in \u001b[0;36mplot\u001b[1;34m(scalex, scaley, data, *args, **kwargs)\u001b[0m\n\u001b[0;32m   <a href='file:///c%3A/Users/Long%20Cao/AppData/Roaming/Python/Python310/site-packages/matplotlib/pyplot.py?line=2766'>2767</a>\u001b[0m \u001b[39m@_copy_docstring_and_deprecators\u001b[39m(Axes\u001b[39m.\u001b[39mplot)\n\u001b[0;32m   <a href='file:///c%3A/Users/Long%20Cao/AppData/Roaming/Python/Python310/site-packages/matplotlib/pyplot.py?line=2767'>2768</a>\u001b[0m \u001b[39mdef\u001b[39;00m \u001b[39mplot\u001b[39m(\u001b[39m*\u001b[39margs, scalex\u001b[39m=\u001b[39m\u001b[39mTrue\u001b[39;00m, scaley\u001b[39m=\u001b[39m\u001b[39mTrue\u001b[39;00m, data\u001b[39m=\u001b[39m\u001b[39mNone\u001b[39;00m, \u001b[39m*\u001b[39m\u001b[39m*\u001b[39mkwargs):\n\u001b[1;32m-> <a href='file:///c%3A/Users/Long%20Cao/AppData/Roaming/Python/Python310/site-packages/matplotlib/pyplot.py?line=2768'>2769</a>\u001b[0m     \u001b[39mreturn\u001b[39;00m gca()\u001b[39m.\u001b[39mplot(\n\u001b[0;32m   <a href='file:///c%3A/Users/Long%20Cao/AppData/Roaming/Python/Python310/site-packages/matplotlib/pyplot.py?line=2769'>2770</a>\u001b[0m         \u001b[39m*\u001b[39margs, scalex\u001b[39m=\u001b[39mscalex, scaley\u001b[39m=\u001b[39mscaley,\n\u001b[0;32m   <a href='file:///c%3A/Users/Long%20Cao/AppData/Roaming/Python/Python310/site-packages/matplotlib/pyplot.py?line=2770'>2771</a>\u001b[0m         \u001b[39m*\u001b[39m\u001b[39m*\u001b[39m({\u001b[39m\"\u001b[39m\u001b[39mdata\u001b[39m\u001b[39m\"\u001b[39m: data} \u001b[39mif\u001b[39;00m data \u001b[39mis\u001b[39;00m \u001b[39mnot\u001b[39;00m \u001b[39mNone\u001b[39;00m \u001b[39melse\u001b[39;00m {}), \u001b[39m*\u001b[39m\u001b[39m*\u001b[39mkwargs)\n",
      "File \u001b[1;32m~\\AppData\\Roaming\\Python\\Python310\\site-packages\\matplotlib\\axes\\_axes.py:1632\u001b[0m, in \u001b[0;36mAxes.plot\u001b[1;34m(self, scalex, scaley, data, *args, **kwargs)\u001b[0m\n\u001b[0;32m   <a href='file:///c%3A/Users/Long%20Cao/AppData/Roaming/Python/Python310/site-packages/matplotlib/axes/_axes.py?line=1389'>1390</a>\u001b[0m \u001b[39m\"\"\"\u001b[39;00m\n\u001b[0;32m   <a href='file:///c%3A/Users/Long%20Cao/AppData/Roaming/Python/Python310/site-packages/matplotlib/axes/_axes.py?line=1390'>1391</a>\u001b[0m \u001b[39mPlot y versus x as lines and/or markers.\u001b[39;00m\n\u001b[0;32m   <a href='file:///c%3A/Users/Long%20Cao/AppData/Roaming/Python/Python310/site-packages/matplotlib/axes/_axes.py?line=1391'>1392</a>\u001b[0m \n\u001b[1;32m   (...)\u001b[0m\n\u001b[0;32m   <a href='file:///c%3A/Users/Long%20Cao/AppData/Roaming/Python/Python310/site-packages/matplotlib/axes/_axes.py?line=1628'>1629</a>\u001b[0m \u001b[39m(``'green'``) or hex strings (``'#008000'``).\u001b[39;00m\n\u001b[0;32m   <a href='file:///c%3A/Users/Long%20Cao/AppData/Roaming/Python/Python310/site-packages/matplotlib/axes/_axes.py?line=1629'>1630</a>\u001b[0m \u001b[39m\"\"\"\u001b[39;00m\n\u001b[0;32m   <a href='file:///c%3A/Users/Long%20Cao/AppData/Roaming/Python/Python310/site-packages/matplotlib/axes/_axes.py?line=1630'>1631</a>\u001b[0m kwargs \u001b[39m=\u001b[39m cbook\u001b[39m.\u001b[39mnormalize_kwargs(kwargs, mlines\u001b[39m.\u001b[39mLine2D)\n\u001b[1;32m-> <a href='file:///c%3A/Users/Long%20Cao/AppData/Roaming/Python/Python310/site-packages/matplotlib/axes/_axes.py?line=1631'>1632</a>\u001b[0m lines \u001b[39m=\u001b[39m [\u001b[39m*\u001b[39m\u001b[39mself\u001b[39m\u001b[39m.\u001b[39m_get_lines(\u001b[39m*\u001b[39margs, data\u001b[39m=\u001b[39mdata, \u001b[39m*\u001b[39m\u001b[39m*\u001b[39mkwargs)]\n\u001b[0;32m   <a href='file:///c%3A/Users/Long%20Cao/AppData/Roaming/Python/Python310/site-packages/matplotlib/axes/_axes.py?line=1632'>1633</a>\u001b[0m \u001b[39mfor\u001b[39;00m line \u001b[39min\u001b[39;00m lines:\n\u001b[0;32m   <a href='file:///c%3A/Users/Long%20Cao/AppData/Roaming/Python/Python310/site-packages/matplotlib/axes/_axes.py?line=1633'>1634</a>\u001b[0m     \u001b[39mself\u001b[39m\u001b[39m.\u001b[39madd_line(line)\n",
      "File \u001b[1;32m~\\AppData\\Roaming\\Python\\Python310\\site-packages\\matplotlib\\axes\\_base.py:312\u001b[0m, in \u001b[0;36m_process_plot_var_args.__call__\u001b[1;34m(self, data, *args, **kwargs)\u001b[0m\n\u001b[0;32m    <a href='file:///c%3A/Users/Long%20Cao/AppData/Roaming/Python/Python310/site-packages/matplotlib/axes/_base.py?line=309'>310</a>\u001b[0m     this \u001b[39m+\u001b[39m\u001b[39m=\u001b[39m args[\u001b[39m0\u001b[39m],\n\u001b[0;32m    <a href='file:///c%3A/Users/Long%20Cao/AppData/Roaming/Python/Python310/site-packages/matplotlib/axes/_base.py?line=310'>311</a>\u001b[0m     args \u001b[39m=\u001b[39m args[\u001b[39m1\u001b[39m:]\n\u001b[1;32m--> <a href='file:///c%3A/Users/Long%20Cao/AppData/Roaming/Python/Python310/site-packages/matplotlib/axes/_base.py?line=311'>312</a>\u001b[0m \u001b[39myield from\u001b[39;00m \u001b[39mself\u001b[39;49m\u001b[39m.\u001b[39;49m_plot_args(this, kwargs)\n",
      "File \u001b[1;32m~\\AppData\\Roaming\\Python\\Python310\\site-packages\\matplotlib\\axes\\_base.py:498\u001b[0m, in \u001b[0;36m_process_plot_var_args._plot_args\u001b[1;34m(self, tup, kwargs, return_kwargs)\u001b[0m\n\u001b[0;32m    <a href='file:///c%3A/Users/Long%20Cao/AppData/Roaming/Python/Python310/site-packages/matplotlib/axes/_base.py?line=494'>495</a>\u001b[0m     \u001b[39mself\u001b[39m\u001b[39m.\u001b[39maxes\u001b[39m.\u001b[39myaxis\u001b[39m.\u001b[39mupdate_units(y)\n\u001b[0;32m    <a href='file:///c%3A/Users/Long%20Cao/AppData/Roaming/Python/Python310/site-packages/matplotlib/axes/_base.py?line=496'>497</a>\u001b[0m \u001b[39mif\u001b[39;00m x\u001b[39m.\u001b[39mshape[\u001b[39m0\u001b[39m] \u001b[39m!=\u001b[39m y\u001b[39m.\u001b[39mshape[\u001b[39m0\u001b[39m]:\n\u001b[1;32m--> <a href='file:///c%3A/Users/Long%20Cao/AppData/Roaming/Python/Python310/site-packages/matplotlib/axes/_base.py?line=497'>498</a>\u001b[0m     \u001b[39mraise\u001b[39;00m \u001b[39mValueError\u001b[39;00m(\u001b[39mf\u001b[39m\u001b[39m\"\u001b[39m\u001b[39mx and y must have same first dimension, but \u001b[39m\u001b[39m\"\u001b[39m\n\u001b[0;32m    <a href='file:///c%3A/Users/Long%20Cao/AppData/Roaming/Python/Python310/site-packages/matplotlib/axes/_base.py?line=498'>499</a>\u001b[0m                      \u001b[39mf\u001b[39m\u001b[39m\"\u001b[39m\u001b[39mhave shapes \u001b[39m\u001b[39m{\u001b[39;00mx\u001b[39m.\u001b[39mshape\u001b[39m}\u001b[39;00m\u001b[39m and \u001b[39m\u001b[39m{\u001b[39;00my\u001b[39m.\u001b[39mshape\u001b[39m}\u001b[39;00m\u001b[39m\"\u001b[39m)\n\u001b[0;32m    <a href='file:///c%3A/Users/Long%20Cao/AppData/Roaming/Python/Python310/site-packages/matplotlib/axes/_base.py?line=499'>500</a>\u001b[0m \u001b[39mif\u001b[39;00m x\u001b[39m.\u001b[39mndim \u001b[39m>\u001b[39m \u001b[39m2\u001b[39m \u001b[39mor\u001b[39;00m y\u001b[39m.\u001b[39mndim \u001b[39m>\u001b[39m \u001b[39m2\u001b[39m:\n\u001b[0;32m    <a href='file:///c%3A/Users/Long%20Cao/AppData/Roaming/Python/Python310/site-packages/matplotlib/axes/_base.py?line=500'>501</a>\u001b[0m     \u001b[39mraise\u001b[39;00m \u001b[39mValueError\u001b[39;00m(\u001b[39mf\u001b[39m\u001b[39m\"\u001b[39m\u001b[39mx and y can be no greater than 2D, but have \u001b[39m\u001b[39m\"\u001b[39m\n\u001b[0;32m    <a href='file:///c%3A/Users/Long%20Cao/AppData/Roaming/Python/Python310/site-packages/matplotlib/axes/_base.py?line=501'>502</a>\u001b[0m                      \u001b[39mf\u001b[39m\u001b[39m\"\u001b[39m\u001b[39mshapes \u001b[39m\u001b[39m{\u001b[39;00mx\u001b[39m.\u001b[39mshape\u001b[39m}\u001b[39;00m\u001b[39m and \u001b[39m\u001b[39m{\u001b[39;00my\u001b[39m.\u001b[39mshape\u001b[39m}\u001b[39;00m\u001b[39m\"\u001b[39m)\n",
      "\u001b[1;31mValueError\u001b[0m: x and y must have same first dimension, but have shapes (4000,) and (15000,)"
     ]
    },
    {
     "data": {
      "image/png": "[encoded data removed]",
      "text/plain": [
       "<Figure size 432x288 with 1 Axes>"
      ]
     },
     "metadata": {
      "needs_background": "light"
     },
     "output_type": "display_data"
    }
   ],
   "source": [
    "#plot\n",
    "%matplotlib inline\n",
    "mpl.rcParams['font.family'] = 'san-serif'\n",
    "plt.rcParams['text.usetex'] = True\n",
    "#plt.style.use('classic')\n",
    "fig, ax = plt.subplots()\n",
    "plt.plot(time, power_density_average,\\\n",
    "        #time, -hh*1e-02,\\\n",
    "         time, power_density_average_pitch[0:len(time)],\\\n",
    "         time, power_density_average_sway[0:len(time)],\\\n",
    "         time, power_density_average_flat[0:len(time)])\n",
    "plt.gca().get_lines()[0].set_color(\"black\")\n",
    "plt.gca().get_lines()[1].set_color(\"red\")\n",
    "plt.gca().get_lines()[2].set_color(\"green\")\n",
    "plt.gca().get_lines()[3].set_color(\"black\")\n",
    "#plt.gca().get_lines()[4].set_color(\"yellow\")\n",
    "plt.gca().get_lines()[0].set_linestyle(\"--\")\n",
    "plt.gca().get_lines()[1].set_linestyle(\"-.\")\n",
    "plt.gca().get_lines()[2].set_linestyle(\"-\")\n",
    "plt.gca().get_lines()[3].set_linestyle(\"-\")\n",
    "#plt.gca().get_lines()[4].set_linestyle(\"-\")\n",
    "\n",
    "ax.legend(['Fixed','Phase speed','Pitch', 'Sway', 'Flat'], loc='upper right')\n",
    "ax.set_xlabel('t/$T_{wave}$', fontsize=16)\n",
    "ax.set_ylabel('$P_{ij}/U^{3}$', fontsize = 16)\n",
    "ax.set_title('Power density average at $1^{st}$ row', fontsize=16)\n",
    "ax.xaxis.set_minor_locator(tck.AutoMinorLocator())\n",
    "ax.yaxis.set_minor_locator(tck.AutoMinorLocator())\n",
    "#plt.xlim([290,300])\n",
    "#plt.ylim([-0.02,0.16])\n",
    "plt.show()"
   ]
  },
  {
   "cell_type": "code",
   "execution_count": null,
   "metadata": {},
   "outputs": [
    {
     "name": "stdout",
     "output_type": "stream",
     "text": [
      "Current Working directory: d:\\post\\LASD\n"
     ]
    }
   ],
   "source": [
    "path = 'd:\\post\\LASD'\n",
    "os.chdir(path)\n",
    "print('Current Working directory: ' + os.getcwd())\n",
    "#Data Frame\n",
    "data = pd.read_csv('coeff.dat', sep = '\\s+', header = None)\n",
    "data = pd.DataFrame(data)\n",
    "x = data[4] #Turbine power\n",
    "#rearrange series to array multidimensional\n",
    "x = np.array(x)\n",
    "x = x.reshape([int(len(data)/nturbine), nturbine])\n",
    "#x = x.reshape([int(len(data)/nturbine), nturbiney, nturbinex])\n",
    "#print(x[0,0,:])\n",
    "#calculate power density\n",
    "power_density = x/(Sx*Sy*D)\n",
    "power_density_average_LASD = np.mean(power_density, axis = 1)\n",
    "#power_density_average_sway = np.mean(power_density, axis = 2)[:,0]"
   ]
  },
  {
   "cell_type": "code",
   "execution_count": null,
   "metadata": {},
   "outputs": [
    {
     "name": "stdout",
     "output_type": "stream",
     "text": [
      "Current Working directory: d:\\post\\Project\\Fixed_1305\n"
     ]
    }
   ],
   "source": [
    "path = 'd:\\post\\Project\\Fixed_1305'\n",
    "os.chdir(path)\n",
    "print('Current Working directory: ' + os.getcwd())\n",
    "#Data Frame\n",
    "t=[]\n",
    "data = pd.read_csv('coeff.dat', sep = '\\s+', header = None)\n",
    "data = pd.DataFrame(data)\n",
    "x = data[4] #Turbine power\n",
    "m = data[0]\n",
    "#rearrange series to array multidimensional\n",
    "x = np.array(x)\n",
    "x = x.reshape([int(len(data)/nturbine), nturbine])\n",
    "#x = x.reshape([int(len(data)/nturbine), nturbiney, nturbinex])\n",
    "#print(x[0,0,:])\n",
    "#calculate power density\n",
    "for i in range(0, int(len(m)), 16):\n",
    "    #time.append(x[i]*(U/H_hub)) #Using U/H_hub\n",
    "    #time.append(y[i]/T_turb)           #Using T_turb\n",
    "    t.append(m[i]/T_wave) \n",
    "power_density = x/(Sx*Sy*D)\n",
    "power_density_average_fixed = np.mean(power_density, axis = 1)"
   ]
  },
  {
   "cell_type": "code",
   "execution_count": null,
   "metadata": {},
   "outputs": [
    {
     "name": "stdout",
     "output_type": "stream",
     "text": [
      "(15000,)\n"
     ]
    }
   ],
   "source": [
    "print(power_density_average_fixed.shape)\n",
    "from scipy.fft import fft, fftfreq\n",
    "power_density_hat = np.absolute(fft(power_density_average_fixed))\n",
    "num = np.size(t)\n",
    "N = len(power_density_hat)\n",
    "n = np.arange(N)\n",
    "freq = n/t[-1]\n",
    "#freq = np .abs(fftfreq(N, d=time[1]-time[0]))"
   ]
  },
  {
   "cell_type": "code",
   "execution_count": null,
   "metadata": {},
   "outputs": [
    {
     "data": {
      "image/png": "[encoded data removed]",
      "text/plain": [
       "<Figure size 432x288 with 1 Axes>"
      ]
     },
     "metadata": {
      "needs_background": "light"
     },
     "output_type": "display_data"
    }
   ],
   "source": [
    "fig, ax = plt.subplots()\n",
    "plt.plot(freq, power_density_hat)\n",
    "plt.xlabel('$f/f_s$')\n",
    "plt.ylabel('$P_T$')\n",
    "plt.xscale('log')\n",
    "plt.yscale('log')\n",
    "#plt.xlim([0,10])\n",
    "#plt.title('Power density spectrum')\n",
    "plt.show()"
   ]
  },
  {
   "cell_type": "code",
   "execution_count": null,
   "metadata": {},
   "outputs": [
    {
     "name": "stdout",
     "output_type": "stream",
     "text": [
      "0.0598465608040193\n"
     ]
    }
   ],
   "source": [
    "print(power_density_average_fixed.mean())\n",
    "d = np.zeros((len(t),2))\n",
    "d[:,0] = t\n",
    "d[:,1] = power_density_average_fixed - power_density_average_fixed.mean()\n",
    "os.chdir('d:\\post')\n",
    "outputfolder = 'post_result/'\n",
    "#create output folder named 'post_result' \n",
    "if not os.path.exists(outputfolder):\n",
    "    os.makedirs(outputfolder)\n",
    "f = open( outputfolder + \"power_density.plt\",'w')\n",
    "f.write(\"VARIABLES = t,Pij   \\n\")\n",
    "\n",
    "np.savetxt(f, d)\n",
    "f.close()"
   ]
  },
  {
   "cell_type": "code",
   "execution_count": null,
   "metadata": {},
   "outputs": [],
   "source": [
    "def FFT(x):\n",
    "    \"\"\"\n",
    "    A recursive implementation of \n",
    "    the 1D Cooley-Tukey FFT, the \n",
    "    input should have a length of \n",
    "    power of 2. \n",
    "    \"\"\"\n",
    "    N = len(x)\n",
    "    \n",
    "    if N == 1:\n",
    "        return x\n",
    "    else:\n",
    "        X_even = FFT(x[::2])\n",
    "        X_odd = FFT(x[1::2])\n",
    "        factor = \\\n",
    "          np.exp(-2j*np.pi*np.arange(N)/ N)\n",
    "        \n",
    "        X = np.concatenate(\\\n",
    "            [X_even+factor[:int(N/2)]*X_odd,\n",
    "             X_even+factor[int(N/2):]*X_odd])\n",
    "        return X"
   ]
  }
 ],
 "metadata": {
  "interpreter": {
   "hash": "26de051ba29f2982a8de78e945f0abaf191376122a1563185a90213a26c5da77"
  },
  "kernelspec": {
   "display_name": "Python 3.10.0 64-bit",
   "language": "python",
   "name": "python3"
  },
  "language_info": {
   "codemirror_mode": {
    "name": "ipython",
    "version": 3
   },
   "file_extension": ".py",
   "mimetype": "text/x-python",
   "name": "python",
   "nbconvert_exporter": "python",
   "pygments_lexer": "ipython3",
   "version": "3.10.0"
  },
  "orig_nbformat": 4
 },
 "nbformat": 4,
 "nbformat_minor": 2
}
