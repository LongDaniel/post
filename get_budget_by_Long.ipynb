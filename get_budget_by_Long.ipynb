{
 "cells": [
  {
   "cell_type": "code",
   "execution_count": 17,
   "metadata": {},
   "outputs": [],
   "source": [
    "#import necessary libraries\n",
    "import numpy as np\n",
    "import matplotlib as mpl\n",
    "import pandas as pd\n",
    "import matplotlib.pyplot as plt\n",
    "import matplotlib.ticker as tck\n",
    "import tecplot_io as tec\n",
    "import h5py\n",
    "import os"
   ]
  },
  {
   "cell_type": "code",
   "execution_count": 18,
   "metadata": {},
   "outputs": [],
   "source": [
    "def get_mkeb_wt(path,NPZ):\n",
    "    os.chdir(path)\n",
    "    print('Current working directory is ' + os.getcwd())\n",
    "    filename = \"mean_field_1d.dat\"\n",
    "    data = tec.tecplot_reader(filename, [NPZ, 24], 2)\n",
    "    mkeb_wt = data[:,20]\n",
    "    return mkeb_wt"
   ]
  },
  {
   "cell_type": "code",
   "execution_count": 19,
   "metadata": {},
   "outputs": [],
   "source": [
    "def get_tau_sum(path,NPZ):\n",
    "    os.chdir(path)\n",
    "    print('Current working directory is ' + os.getcwd())\n",
    "    filename = \"mean_field_1d.dat\"\n",
    "    data = tec.tecplot_reader(filename, [NPZ, 24], 2)\n",
    "    tau_sum = data[:,4]\n",
    "    return tau_sum"
   ]
  },
  {
   "cell_type": "code",
   "execution_count": 20,
   "metadata": {},
   "outputs": [],
   "source": [
    "def get_z(path,NPZ):\n",
    "    os.chdir(path)\n",
    "    print('Current working directory is ' + os.getcwd())\n",
    "    filename = \"mean_field_1d.dat\"\n",
    "    data = tec.tecplot_reader(filename, [NPZ, 24], 2)\n",
    "    z = data[:,0]\n",
    "    return z"
   ]
  },
  {
   "cell_type": "code",
   "execution_count": 21,
   "metadata": {},
   "outputs": [],
   "source": [
    "def get_um(path,NPZ):\n",
    "    os.chdir(path)\n",
    "    print('Current working directory is ' + os.getcwd())\n",
    "    filename = \"mean_field_1d.dat\"\n",
    "    data = tec.tecplot_reader(filename, [NPZ, 24], 2)\n",
    "    tau_sum = data[:,1]\n",
    "    return tau_sum"
   ]
  },
  {
   "cell_type": "code",
   "execution_count": 22,
   "metadata": {},
   "outputs": [],
   "source": [
    "#Declare some variable\n",
    "dt = 0.68543297937 \n",
    "nturbinex = 4\n",
    "nturbiney = 4\n",
    "nturbine = 16\n",
    "#Diameter of turbine\n",
    "D = 80\n",
    "#Other variable\n",
    "Sx = 7\n",
    "Sy = 7\n",
    "#Power density\n",
    "Power_density = []\n",
    "#Time variable\n",
    "time = []\n",
    "#Mean velocity\n",
    "U = 11.5258407161\n",
    "#U_star = 0.356\n",
    "U_star = 0.356\n",
    "#frequency of wave\n",
    "omega = 0.0498561155567\n",
    "#wave period\n",
    "T = 2*np.pi/omega\n",
    "#turbine hub height\n",
    "H_hub = 70.0\n",
    "H_bar = 500\n",
    "#Rotational angular period\n",
    "T_turb = 42.84\n",
    "NPX = 192\n",
    "NPY = 192\n",
    "NPZ = 64"
   ]
  },
  {
   "cell_type": "code",
   "execution_count": 23,
   "metadata": {},
   "outputs": [],
   "source": [
    "#declare working directory\n",
    "path = 'd:\\post\\Project'\n",
    "os.chdir(path)"
   ]
  },
  {
   "cell_type": "code",
   "execution_count": 27,
   "metadata": {},
   "outputs": [
    {
     "name": "stdout",
     "output_type": "stream",
     "text": [
      "Current working directory is d:\\post\\Project\\Pitch_turbine\n",
      "Current working directory is d:\\post\\Project\\Fixed_Turbine\n",
      "Current working directory is d:\\post\\Project\\Pitch_Turbine\n",
      "Current working directory is d:\\post\\Project\\SWAY_Turbine\n",
      "Current working directory is d:\\post\\Project\\Fixed_no_swell\n",
      "Current working directory is d:\\post\\Project\\Fixed_Turbine\n",
      "Current working directory is d:\\post\\Project\\Pitch_Turbine\n",
      "Current working directory is d:\\post\\Project\\SWAY_Turbine\n",
      "Current working directory is d:\\post\\Project\\Fixed_no_swell\n",
      "Current working directory is d:\\post\\Project\\Fixed_Turbine\n",
      "Current working directory is d:\\post\\Project\\Pitch_Turbine\n",
      "Current working directory is d:\\post\\Project\\SWAY_Turbine\n",
      "Current working directory is d:\\post\\Project\\FIXED_no_swell\n",
      "Current working directory: d:\\post\n"
     ]
    }
   ],
   "source": [
    "z = get_z(\"d:\\post\\Project\\Pitch_turbine\",NPZ)\n",
    "data = np.zeros((len(z),13))\n",
    "#Normalize the data\n",
    "data [:,0] = z/H_hub\n",
    "'''\n",
    "for icase in range(casename_s, casename_e):\n",
    "    foldername = \"./\"+casenames[icase]\n",
    "    #change working directory\n",
    "    os.chdir(path+foldername)\n",
    "    print(\"curent working directory: \"+os.getcwd())\n",
    "    #get mkeb_wt\n",
    "    data[:,2*icase+1] = get_mkeb_wt(path+foldername)\n",
    "    #get tau_sum\n",
    "    data[:,2*icase+2] = get_tau_sum(path+foldername)\n",
    "'''\n",
    "data[:,1] = get_mkeb_wt(\"d:\\post\\Project\\Fixed_Turbine\",NPZ)*U**3 / (U_star**3/H_bar)\n",
    "data[:,2] = get_mkeb_wt(\"d:\\post\\Project\\Pitch_Turbine\",NPZ)*U**3 / (U_star**3/H_bar)\n",
    "data[:,3] = get_mkeb_wt(\"d:\\post\\Project\\SWAY_Turbine\",NPZ)*U**3 / (U_star**3/H_bar)\n",
    "data[:,4] = get_mkeb_wt(\"d:\\post\\Project\\Fixed_no_swell\",NPZ)*U**3 / (U_star**3/H_bar)\n",
    "data[:,5] = get_tau_sum(\"d:\\post\\Project\\Fixed_Turbine\",NPZ)*U**3 / (U_star**3)\n",
    "data[:,6] = get_tau_sum(\"d:\\post\\Project\\Pitch_Turbine\",NPZ)*U**3 / (U_star**3)\n",
    "data[:,7] = get_tau_sum(\"d:\\post\\Project\\SWAY_Turbine\",NPZ)*U**3 / (U_star**3)\n",
    "data[:,8] = get_tau_sum(\"d:\\post\\Project\\Fixed_no_swell\",NPZ)*U**3 / (U_star**3)\n",
    "data[:,9] = get_um(\"d:\\post\\Project\\Fixed_Turbine\",NPZ)*(U / U_star)\n",
    "data[:,10] = get_um(\"d:\\post\\Project\\Pitch_Turbine\",NPZ)*(U / U_star)\n",
    "data[:,11] = get_um(\"d:\\post\\Project\\SWAY_Turbine\",NPZ)*(U / U_star)\n",
    "data[:,12] = get_um(\"d:\\post\\Project\\FIXED_no_swell\",NPZ)*(U / U_star)\n",
    "# store data into output file\n",
    "path = 'd:\\post'\n",
    "os.chdir(path)\n",
    "\n",
    "outputfolder = 'post_result/'\n",
    "#create output folder named 'post_result' \n",
    "if not os.path.exists(outputfolder):\n",
    "    os.makedirs(outputfolder)\n",
    "print(\"Current working directory: {0}\".format(os.getcwd()))\n",
    "#np.savetxt('power_density.dat', data)\n",
    "\n",
    "\n",
    "f = open( outputfolder + \"Budget together.plt\",'w')\n",
    "f.write(\"VARIABLES = z, Fixed_mkeb_wt/(U_star**3/H_bar),\\\n",
    "         Pitch_mkeb_wt/(U_star**3/H_bar),\\\n",
    "         SWAY_mkeb_wt/(U_star**3/H_bar),  \\\n",
    "         Flat_mkeb_wt/(U_star**3/H_bar), \\\n",
    "         Fixed_phie/U_star**3,Pitch_phie/U_star**3,\\\n",
    "         SWAY_phie/U_star**3,Flat_phie/U_star**3,\\\n",
    "         Um/U_star_Fixed, Um/U_star_Pitch,\\\n",
    "         Um/U_star_SWAY, Um/U_star_Flat \\n\")\n",
    "np.savetxt(f, data)\n",
    "f.close()\n"
   ]
  }
 ],
 "metadata": {
  "interpreter": {
   "hash": "26de051ba29f2982a8de78e945f0abaf191376122a1563185a90213a26c5da77"
  },
  "kernelspec": {
   "display_name": "Python 3.10.0 64-bit",
   "language": "python",
   "name": "python3"
  },
  "language_info": {
   "codemirror_mode": {
    "name": "ipython",
    "version": 3
   },
   "file_extension": ".py",
   "mimetype": "text/x-python",
   "name": "python",
   "nbconvert_exporter": "python",
   "pygments_lexer": "ipython3",
   "version": "3.10.0"
  },
  "orig_nbformat": 4
 },
 "nbformat": 4,
 "nbformat_minor": 2
}
